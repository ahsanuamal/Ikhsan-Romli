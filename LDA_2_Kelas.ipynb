{
  "nbformat": 4,
  "nbformat_minor": 0,
  "metadata": {
    "colab": {
      "name": "Untitled2.ipynb",
      "provenance": [],
      "authorship_tag": "ABX9TyOftrZRc+2IeRny3StwxBU/",
      "include_colab_link": true
    },
    "kernelspec": {
      "name": "python3",
      "display_name": "Python 3"
    },
    "language_info": {
      "name": "python"
    }
  },
  "cells": [
    {
      "cell_type": "markdown",
      "metadata": {
        "id": "view-in-github",
        "colab_type": "text"
      },
      "source": [
        "<a href=\"https://colab.research.google.com/github/ahsanuamal/ahsanuamal/blob/main/Untitled2.ipynb\" target=\"_parent\"><img src=\"https://colab.research.google.com/assets/colab-badge.svg\" alt=\"Open In Colab\"/></a>"
      ]
    },
    {
      "cell_type": "code",
      "metadata": {
        "id": "QImpcmKXZf0G"
      },
      "source": [
        "#import numpy\n",
        "import numpy as np\n",
        "from numpy import genfromtxt"
      ],
      "execution_count": 1,
      "outputs": []
    },
    {
      "cell_type": "code",
      "metadata": {
        "id": "_P_zaN6zaj7n"
      },
      "source": [
        "#membaca data dari file\n",
        "Xole = genfromtxt('/tmp/6.3_HalticaOleracea.csv', delimiter=',')\n",
        "Xcar = genfromtxt('/tmp/6.3_HalticaCarduorum.csv', delimiter=',')"
      ],
      "execution_count": 3,
      "outputs": []
    },
    {
      "cell_type": "code",
      "metadata": {
        "colab": {
          "base_uri": "https://localhost:8080/"
        },
        "id": "S0TeX8XbbO3Y",
        "outputId": "961ff3c3-6ade-4ca2-a915-01fdde80d956"
      },
      "source": [
        "#hitung matrik kovarians kelas 1 (Haltica oleracea)\n",
        "#dan kelas 2 (Haltica carduorum)\n",
        "XoleCentered = Xole - Xole.mean(axis=0)\n",
        "XcarCentered = Xcar - Xcar.mean(axis=0)\n",
        "Sole = np.dot(XoleCentered.T, XoleCentered) / (Xole.shape[0] - 1)\n",
        "Scar = np.dot(XcarCentered.T, XcarCentered) / (Xcar.shape[0] - 1)\n",
        "print(\"Sole: \", Sole)\n",
        "print(\"Scar: \", Scar)"
      ],
      "execution_count": 4,
      "outputs": [
        {
          "output_type": "stream",
          "text": [
            "Sole:  [[187.59649123 176.8625731   48.37134503 113.58187135]\n",
            " [176.8625731  345.38596491  75.97953216 118.78070175]\n",
            " [ 48.37134503  75.97953216  66.35672515  16.24269006]\n",
            " [113.58187135 118.78070175  16.24269006 239.94152047]]\n",
            "Scar:  [[101.83947368 128.06315789  36.98947368  32.59210526]\n",
            " [128.06315789 389.01052632 165.35789474  94.36842105]\n",
            " [ 36.98947368 165.35789474 167.53684211  66.52631579]\n",
            " [ 32.59210526  94.36842105  66.52631579 177.88157895]]\n"
          ],
          "name": "stdout"
        }
      ]
    },
    {
      "cell_type": "code",
      "metadata": {
        "colab": {
          "base_uri": "https://localhost:8080/"
        },
        "id": "kiYPxf68bUcy",
        "outputId": "7f75984d-93c7-435b-e10b-11ec58329683"
      },
      "source": [
        "#hitung matrik kovarians S (gabungan)\n",
        "S = ((Xole.shape[0] - 1) * Sole + (Xcar.shape[0] - 1) * Scar)\\\n",
        "    / ((Xole.shape[0] - 1) + (Xcar.shape[0] - 1))\n",
        "print(\"S: \", S)"
      ],
      "execution_count": 5,
      "outputs": [
        {
          "output_type": "stream",
          "text": [
            "S:  [[143.55910384 151.80341394  42.52660028  71.99253201]\n",
            " [151.80341394 367.78776671 121.87652916 106.24466572]\n",
            " [ 42.52660028 121.87652916 118.3140825   42.06401138]\n",
            " [ 71.99253201 106.24466572  42.06401138 208.07290185]]\n"
          ],
          "name": "stdout"
        }
      ]
    },
    {
      "cell_type": "code",
      "metadata": {
        "id": "N2jNLLVGbWw6"
      },
      "source": [
        "#hitung matrik projeksi a (koefisien LDA)\n",
        "meanXol = Xole.mean(axis=0); meanXol=np.asmatrix(meanXol).T\n",
        "meanXcar = Xcar.mean(axis=0); meanXcar=np.asmatrix(meanXcar).T\n",
        "a = np.dot(np.linalg.inv(S), np.subtract(meanXol, meanXcar))\n",
        "a = np.asmatrix(a)"
      ],
      "execution_count": 6,
      "outputs": []
    },
    {
      "cell_type": "code",
      "metadata": {
        "colab": {
          "base_uri": "https://localhost:8080/"
        },
        "id": "TG41kVhTbcO4",
        "outputId": "8784e544-dd7a-4e5f-aa16-b3c88c04091f"
      },
      "source": [
        "#hitung treshold\n",
        "thresh = 0.5 * np.dot((np.add(meanXol, meanXcar)).T, a)\n",
        "print(\"matriks proyeksi a: \", a)\n",
        "print(\"konstanta treshold: \", thresh)"
      ],
      "execution_count": 7,
      "outputs": [
        {
          "output_type": "stream",
          "text": [
            "matriks proyeksi a:  [[ 0.34524895]\n",
            " [-0.13038778]\n",
            " [-0.1064338 ]\n",
            " [-0.14335331]]\n",
            "konstanta treshold:  [[-15.80538483]]\n"
          ],
          "name": "stdout"
        }
      ]
    },
    {
      "cell_type": "code",
      "metadata": {
        "colab": {
          "base_uri": "https://localhost:8080/"
        },
        "id": "BFtyeuChbvFh",
        "outputId": "32737196-2fea-4b7a-b396-2e1648d21a48"
      },
      "source": [
        "#proyeksikan data dengan matriks proyeksi a\n",
        "XoleLDA = np.dot(Xole,a)\n",
        "XcarLDA = np.dot(Xcar,a)\n",
        "print(\"Haltica Oleracea setelah LDA: \", XoleLDA)\n",
        "print(\"Haltica Carduorum setelah LDA: \", XcarLDA)"
      ],
      "execution_count": 8,
      "outputs": [
        {
          "output_type": "stream",
          "text": [
            "Haltica Oleracea setelah LDA:  [[ -4.64097487]\n",
            " [-12.76995437]\n",
            " [ -3.59900662]\n",
            " [ -8.33378308]\n",
            " [ -8.39845855]\n",
            " [ -8.31969141]\n",
            " [ -5.99878876]\n",
            " [ -7.1049744 ]\n",
            " [-14.26965888]\n",
            " [ -8.795039  ]\n",
            " [ -5.37765953]\n",
            " [ -6.68555568]\n",
            " [ -7.53140232]\n",
            " [-11.53346371]\n",
            " [-10.92250425]\n",
            " [-11.16822278]\n",
            " [ -7.64662255]\n",
            " [-12.53181468]\n",
            " [-14.52461586]]\n",
            "Haltica Carduorum setelah LDA:  [[-26.82287426]\n",
            " [-17.4586876 ]\n",
            " [-26.37315284]\n",
            " [-24.33482433]\n",
            " [-25.69496179]\n",
            " [-26.66657268]\n",
            " [-27.4867502 ]\n",
            " [-15.04791228]\n",
            " [-21.36303743]\n",
            " [-23.60089772]\n",
            " [-28.77137721]\n",
            " [-22.02204185]\n",
            " [-20.07453014]\n",
            " [-26.9941045 ]\n",
            " [-21.10153825]\n",
            " [-23.62355843]\n",
            " [-16.05087606]\n",
            " [-23.30440709]\n",
            " [-17.34108987]\n",
            " [-18.97462902]]\n"
          ],
          "name": "stdout"
        }
      ]
    },
    {
      "cell_type": "code",
      "metadata": {
        "colab": {
          "base_uri": "https://localhost:8080/"
        },
        "id": "LQ4U8aMUb13C",
        "outputId": "8ad90b0d-5df6-43cf-913b-6036c029b6c9"
      },
      "source": [
        "#terapkan threshold untuk pemisahan kelas\n",
        "XoleLDA_prediksi = np.full((XoleLDA.shape),0)\n",
        "XoleLDA_prediksi[XoleLDA>thresh]=1#jika lbh dari thresh, masuk ke kelas 1\n",
        "XoleLDA_prediksi[XoleLDA<=thresh]=2#jika krg dari atw sama, masuk ke kelas 2\n",
        "XcarLDA_prediksi = np.full((XcarLDA.shape),0)\n",
        "XcarLDA_prediksi[XcarLDA>thresh]=1#jika lbh dari thresh, masuk ke kelas 1\n",
        "XcarLDA_prediksi[XcarLDA<=thresh]=2#jika krg dari/sama, masuk ke kelas 2\n",
        "print(\"XoleLDA_prediksi:\", \"\\n\", XoleLDA_prediksi)\n",
        "print(\"XcarLDA_prediksi:\", \"\\n\", XcarLDA_prediksi)"
      ],
      "execution_count": 10,
      "outputs": [
        {
          "output_type": "stream",
          "text": [
            "XoleLDA_prediksi: \n",
            " [[1]\n",
            " [1]\n",
            " [1]\n",
            " [1]\n",
            " [1]\n",
            " [1]\n",
            " [1]\n",
            " [1]\n",
            " [1]\n",
            " [1]\n",
            " [1]\n",
            " [1]\n",
            " [1]\n",
            " [1]\n",
            " [1]\n",
            " [1]\n",
            " [1]\n",
            " [1]\n",
            " [1]]\n",
            "XcarLDA_prediksi: \n",
            " [[2]\n",
            " [2]\n",
            " [2]\n",
            " [2]\n",
            " [2]\n",
            " [2]\n",
            " [2]\n",
            " [1]\n",
            " [2]\n",
            " [2]\n",
            " [2]\n",
            " [2]\n",
            " [2]\n",
            " [2]\n",
            " [2]\n",
            " [2]\n",
            " [2]\n",
            " [2]\n",
            " [2]\n",
            " [2]]\n"
          ],
          "name": "stdout"
        }
      ]
    }
  ]
}
