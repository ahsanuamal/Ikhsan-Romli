{
  "nbformat": 4,
  "nbformat_minor": 0,
  "metadata": {
    "colab": {
      "name": "Text Mining & NLP.ipynb",
      "provenance": [],
      "include_colab_link": true
    },
    "kernelspec": {
      "name": "python3",
      "display_name": "Python 3"
    },
    "language_info": {
      "name": "python"
    }
  },
  "cells": [
    {
      "cell_type": "markdown",
      "metadata": {
        "id": "view-in-github",
        "colab_type": "text"
      },
      "source": [
        "<a href=\"https://colab.research.google.com/github/ahsanuamal/ahsanuamal/blob/main/Text_Mining_%26_NLP.ipynb\" target=\"_parent\"><img src=\"https://colab.research.google.com/assets/colab-badge.svg\" alt=\"Open In Colab\"/></a>"
      ]
    },
    {
      "cell_type": "markdown",
      "source": [
        "# **Setting Environment**"
      ],
      "metadata": {
        "id": "14-ITgL-QSAb"
      }
    },
    {
      "cell_type": "markdown",
      "source": [
        "**Linux Standard Base**. Perintah ini untuk mengidentifikasi dan mendapatkan informasi distribusi Linux yang sedang digunakan."
      ],
      "metadata": {
        "id": "chr1S58pM_Cb"
      }
    },
    {
      "cell_type": "code",
      "execution_count": null,
      "metadata": {
        "id": "2mx3Dc_OFogg"
      },
      "outputs": [],
      "source": [
        "! lsb_release -a\n"
      ]
    },
    {
      "cell_type": "markdown",
      "source": [
        "**Checking package version**"
      ],
      "metadata": {
        "id": "vqzGNDX_Ofno"
      }
    },
    {
      "cell_type": "code",
      "source": [
        "import pkg_resources"
      ],
      "metadata": {
        "id": "BjNNArD4IvEw"
      },
      "execution_count": null,
      "outputs": []
    },
    {
      "cell_type": "code",
      "source": [
        "dists = [d for d in pkg_resources.working_set] \n",
        "for i in dists:\n",
        "    print(i)"
      ],
      "metadata": {
        "id": "jiripbuAI3vD"
      },
      "execution_count": null,
      "outputs": []
    },
    {
      "cell_type": "markdown",
      "source": [
        "**Import Library**"
      ],
      "metadata": {
        "id": "KnSDONrYQalX"
      }
    },
    {
      "cell_type": "code",
      "source": [
        "import nltk, warnings; warnings.simplefilter('ignore')\n",
        "import logging; logging.captureWarnings(True)\n",
        "import re"
      ],
      "metadata": {
        "id": "C8pY0_IuI9p5"
      },
      "execution_count": null,
      "outputs": []
    },
    {
      "cell_type": "markdown",
      "source": [
        "**Download punctuation**"
      ],
      "metadata": {
        "id": "uxJsNzgTO92A"
      }
    },
    {
      "cell_type": "code",
      "source": [
        "nltk.download('punkt')"
      ],
      "metadata": {
        "id": "vu-35jchKUO5"
      },
      "execution_count": null,
      "outputs": []
    },
    {
      "cell_type": "code",
      "source": [
        "nltk.download('stopwords')"
      ],
      "metadata": {
        "id": "PSQ49VvLK1Be"
      },
      "execution_count": null,
      "outputs": []
    },
    {
      "cell_type": "markdown",
      "source": [
        "**Install Sastrawi Library**"
      ],
      "metadata": {
        "id": "g7IB9ygnPIWr"
      }
    },
    {
      "cell_type": "code",
      "source": [
        "!pip install sastrawi"
      ],
      "metadata": {
        "id": "mlhp74cXLXzm"
      },
      "execution_count": null,
      "outputs": []
    },
    {
      "cell_type": "code",
      "source": [
        "!pip list | grep -i sastrawi"
      ],
      "metadata": {
        "id": "W1z-6kdVLcki"
      },
      "execution_count": null,
      "outputs": []
    },
    {
      "cell_type": "markdown",
      "source": [
        "# **Tokenization & Cleansing**"
      ],
      "metadata": {
        "id": "YAvlGOnOQFki"
      }
    },
    {
      "cell_type": "markdown",
      "source": [
        "**Create Dataset**"
      ],
      "metadata": {
        "id": "8u1MbGvxQruu"
      }
    },
    {
      "cell_type": "code",
      "source": [
        "string01 = \"Asep dan Sumardi sedang bermain layangan di lapangan depan masjid\"\n",
        "string02 = \"Bagaimanakah reaksi orang tua Ponirah ketika Tukijan datang melamarnya?\""
      ],
      "metadata": {
        "id": "-wqSlTaBMOUu"
      },
      "execution_count": null,
      "outputs": []
    },
    {
      "cell_type": "markdown",
      "source": [
        "**Get Indonesia Stop Words**"
      ],
      "metadata": {
        "id": "A1wxmlEhYKJC"
      }
    },
    {
      "cell_type": "code",
      "source": [
        "stopwords = nltk.corpus.stopwords.words('indonesian')"
      ],
      "metadata": {
        "id": "jjVm48nAYHMA"
      },
      "execution_count": null,
      "outputs": []
    },
    {
      "cell_type": "code",
      "source": [
        "len(stopwords)"
      ],
      "metadata": {
        "id": "atY4U5W8aGNW"
      },
      "execution_count": null,
      "outputs": []
    },
    {
      "cell_type": "markdown",
      "source": [
        "**Create function**"
      ],
      "metadata": {
        "id": "t8yYWLwnRRWk"
      }
    },
    {
      "cell_type": "code",
      "source": [
        "def tokenize_clean(text):\n",
        "    \n",
        "    #tokenisasi\n",
        "    tokens = [word.lower() for sent in nltk.sent_tokenize(text) for word\n",
        "        in nltk.word_tokenize(sent)]\n",
        "    \n",
        "    #clean token from numeric and other character like punctuation\n",
        "    filtered_tokens = []\n",
        "    for token in tokens:\n",
        "        if re.search('[a-zA-Z]', token):\n",
        "            filtered_tokens.append(token)\n",
        "            \n",
        "    return filtered_tokens"
      ],
      "metadata": {
        "id": "-ILLcuxNMUna"
      },
      "execution_count": null,
      "outputs": []
    },
    {
      "cell_type": "code",
      "source": [
        "def remove_stopwords(tokenized_text):\n",
        "\n",
        "  cleaned_token = []\n",
        "  for token in tokenized_text:\n",
        "    if token not in stopwords:\n",
        "      cleaned_token.append(token)\n",
        "  return cleaned_token"
      ],
      "metadata": {
        "id": "6sKMLNwWXxhN"
      },
      "execution_count": null,
      "outputs": []
    },
    {
      "cell_type": "markdown",
      "source": [
        "**Processing data**"
      ],
      "metadata": {
        "id": "KQ34WCZYSRuV"
      }
    },
    {
      "cell_type": "code",
      "source": [
        "result01 = tokenize_clean(string01)\n",
        "result = remove_stopwords(result01)\n"
      ],
      "metadata": {
        "id": "y3Uccsm0MWPM"
      },
      "execution_count": null,
      "outputs": []
    },
    {
      "cell_type": "markdown",
      "source": [
        "**Checking results**"
      ],
      "metadata": {
        "id": "jm68uM48TijU"
      }
    },
    {
      "cell_type": "code",
      "source": [
        "print(string01)\n",
        "print(result01)\n",
        "print(result)"
      ],
      "metadata": {
        "id": "JfOmY0oEYXhe"
      },
      "execution_count": null,
      "outputs": []
    },
    {
      "cell_type": "code",
      "source": [
        "len(result01)"
      ],
      "metadata": {
        "id": "JSv3TadHTCe1"
      },
      "execution_count": null,
      "outputs": []
    },
    {
      "cell_type": "code",
      "source": [
        "result01"
      ],
      "metadata": {
        "id": "fQ8neLGNTK_g"
      },
      "execution_count": null,
      "outputs": []
    },
    {
      "cell_type": "code",
      "source": [
        "result01[0]"
      ],
      "metadata": {
        "id": "q1wuLJQFTLt5"
      },
      "execution_count": null,
      "outputs": []
    },
    {
      "cell_type": "code",
      "source": [
        "result01[-1]"
      ],
      "metadata": {
        "id": "eqbIW2JfTOI9"
      },
      "execution_count": null,
      "outputs": []
    },
    {
      "cell_type": "code",
      "source": [
        "result01[2:4]"
      ],
      "metadata": {
        "id": "wui4WiRVTO-8"
      },
      "execution_count": null,
      "outputs": []
    },
    {
      "cell_type": "code",
      "source": [
        "for kata in result01:\n",
        "  print(kata) "
      ],
      "metadata": {
        "id": "kgP4Eo4HTfK-"
      },
      "execution_count": null,
      "outputs": []
    },
    {
      "cell_type": "markdown",
      "source": [
        "# **Stemming & Lemmatization**"
      ],
      "metadata": {
        "id": "ioj2ZXJ9c66X"
      }
    },
    {
      "cell_type": "markdown",
      "source": [
        "**Import required library**"
      ],
      "metadata": {
        "id": "QZ9q_N0SdZ1K"
      }
    },
    {
      "cell_type": "code",
      "source": [
        "import nltk\n",
        "import re\n",
        "from Sastrawi.Stemmer.StemmerFactory import StemmerFactory"
      ],
      "metadata": {
        "id": "zcGhO396dUDi"
      },
      "execution_count": null,
      "outputs": []
    },
    {
      "cell_type": "markdown",
      "source": [
        "**Stemming Function**"
      ],
      "metadata": {
        "id": "wJPeDPb7dhPg"
      }
    },
    {
      "cell_type": "code",
      "source": [
        "def stemming_text(tokenized_text):\n",
        "\n",
        "  #stem using Sastrawi StemmerFactory\n",
        "  factory = StemmerFactory()\n",
        "  stemmer = factory.create_stemmer()\n",
        "\n",
        "  stems = []\n",
        "  for token in tokenized_text:\n",
        "      stems.append(stemmer.stem(token))\n",
        "\n",
        "  return stems"
      ],
      "metadata": {
        "id": "d31tvw3gdtWW"
      },
      "execution_count": null,
      "outputs": []
    },
    {
      "cell_type": "code",
      "source": [
        "result01 = tokenize_clean(string01)\n",
        "result = remove_stopwords(result01)\n",
        "stem_result = stemming_text(result)\n",
        "print(string01)\n",
        "print(result01)\n",
        "print(result)\n",
        "print(stem_result)"
      ],
      "metadata": {
        "id": "47hQ6J8Lfvaw"
      },
      "execution_count": null,
      "outputs": []
    },
    {
      "cell_type": "code",
      "source": [
        "stemming_text(result)"
      ],
      "metadata": {
        "id": "ECV6-u9Dg1i7"
      },
      "execution_count": null,
      "outputs": []
    },
    {
      "cell_type": "markdown",
      "source": [
        "# **TF-IDF**"
      ],
      "metadata": {
        "id": "Q3N3jY4YP9-z"
      }
    },
    {
      "cell_type": "markdown",
      "source": [
        "**Import required library**"
      ],
      "metadata": {
        "id": "FazjPvZzQIkm"
      }
    },
    {
      "cell_type": "code",
      "source": [
        "import nltk\n",
        "import re\n",
        "from Sastrawi.Stemmer.StemmerFactory import StemmerFactory\n",
        "from sklearn.feature_extraction.text import TfidfVectorizer"
      ],
      "metadata": {
        "id": "pnGvy-JFQCyc"
      },
      "execution_count": null,
      "outputs": []
    },
    {
      "cell_type": "markdown",
      "source": [
        "**Preprocessing**"
      ],
      "metadata": {
        "id": "ARE46jpIQtOn"
      }
    },
    {
      "cell_type": "code",
      "source": [
        "def text_preprocessing(text):\n",
        "    \n",
        "    prep01 = tokenize_clean(text)\n",
        "    prep02 = remove_stopwords(prep01)\n",
        "    prep03 = stemming_text(prep02)\n",
        "    \n",
        "    return prep03"
      ],
      "metadata": {
        "id": "vNr7drFwQxoJ"
      },
      "execution_count": null,
      "outputs": []
    },
    {
      "cell_type": "markdown",
      "source": [
        "**Create Dataset**"
      ],
      "metadata": {
        "id": "MwH8U8-eQ7Yv"
      }
    },
    {
      "cell_type": "code",
      "source": [
        "dataset = [\n",
        "     'kucing kucing kucing hitam putih belang',\n",
        "     'tikus belang',\n",
        "     'tikus hitam',\n",
        "     'tikus tikus tikus'\n",
        "]"
      ],
      "metadata": {
        "id": "RLGLszMXQ_5K"
      },
      "execution_count": null,
      "outputs": []
    },
    {
      "cell_type": "code",
      "source": [
        "len(dataset)"
      ],
      "metadata": {
        "id": "V_9eorVxRD7u"
      },
      "execution_count": null,
      "outputs": []
    },
    {
      "cell_type": "code",
      "source": [
        "dataset[2]"
      ],
      "metadata": {
        "id": "-yVrHlKaRFkf"
      },
      "execution_count": null,
      "outputs": []
    },
    {
      "cell_type": "markdown",
      "source": [
        "**Compute TF-IDF**"
      ],
      "metadata": {
        "id": "JofNrdXhhW_P"
      }
    },
    {
      "cell_type": "code",
      "source": [
        "#perform tf-idf vectorization\n",
        "vectorizer = TfidfVectorizer(use_idf=True)\n",
        "result_tfidf = vectorizer.fit_transform(dataset)"
      ],
      "metadata": {
        "id": "bBXm2C1DhaU4"
      },
      "execution_count": null,
      "outputs": []
    },
    {
      "cell_type": "markdown",
      "source": [
        "**View Result**"
      ],
      "metadata": {
        "id": "9virS6DSh_Pa"
      }
    },
    {
      "cell_type": "markdown",
      "source": [
        "Get List Words"
      ],
      "metadata": {
        "id": "00nTj2nViCGj"
      }
    },
    {
      "cell_type": "code",
      "source": [
        "print(vectorizer.get_feature_names())"
      ],
      "metadata": {
        "id": "umOoL2PwiLhr"
      },
      "execution_count": null,
      "outputs": []
    },
    {
      "cell_type": "code",
      "source": [
        "print(vectorizer.vocabulary_)"
      ],
      "metadata": {
        "id": "fPuUDL_tibml"
      },
      "execution_count": null,
      "outputs": []
    },
    {
      "cell_type": "markdown",
      "source": [
        "View TF-IDF Result"
      ],
      "metadata": {
        "id": "yuOBxqu2iojN"
      }
    },
    {
      "cell_type": "code",
      "source": [
        "print(result_tfidf.shape)"
      ],
      "metadata": {
        "id": "94QmDuLbiqyr"
      },
      "execution_count": null,
      "outputs": []
    },
    {
      "cell_type": "code",
      "source": [
        "type(result_tfidf)"
      ],
      "metadata": {
        "id": "uE21NekMivSc"
      },
      "execution_count": null,
      "outputs": []
    },
    {
      "cell_type": "code",
      "source": [
        "print(result_tfidf.toarray())"
      ],
      "metadata": {
        "id": "NYtEu8zdi0Tw"
      },
      "execution_count": null,
      "outputs": []
    },
    {
      "cell_type": "markdown",
      "source": [
        "View First Sentence"
      ],
      "metadata": {
        "id": "qUaK5o_Bi59z"
      }
    },
    {
      "cell_type": "code",
      "source": [
        "dataset[0]"
      ],
      "metadata": {
        "id": "aO9wFGcbi77k"
      },
      "execution_count": null,
      "outputs": []
    },
    {
      "cell_type": "code",
      "source": [
        "print(result_tfidf[0])"
      ],
      "metadata": {
        "id": "GOTO1ZGMjF_S"
      },
      "execution_count": null,
      "outputs": []
    },
    {
      "cell_type": "code",
      "source": [
        "print(result_tfidf[0].toarray())"
      ],
      "metadata": {
        "id": "4S5i3jTxjKvI"
      },
      "execution_count": null,
      "outputs": []
    },
    {
      "cell_type": "markdown",
      "source": [
        "View Second Sentence"
      ],
      "metadata": {
        "id": "MdsoCVAFjO5e"
      }
    },
    {
      "cell_type": "code",
      "source": [
        "print(result_tfidf[1])"
      ],
      "metadata": {
        "id": "uvqBy-M1jOQ2"
      },
      "execution_count": null,
      "outputs": []
    },
    {
      "cell_type": "code",
      "source": [
        "print(result_tfidf[1].toarray())"
      ],
      "metadata": {
        "id": "yJfma0IljVrf"
      },
      "execution_count": null,
      "outputs": []
    },
    {
      "cell_type": "code",
      "source": [
        "dataset[1]"
      ],
      "metadata": {
        "id": "z02Zc4STjYJo"
      },
      "execution_count": null,
      "outputs": []
    },
    {
      "cell_type": "code",
      "source": [
        "vectorizer.get_feature_names()"
      ],
      "metadata": {
        "id": "OlAdqcTRjbOP"
      },
      "execution_count": null,
      "outputs": []
    },
    {
      "cell_type": "code",
      "source": [
        "import pandas as pd\n",
        "df = pd.DataFrame(result_tfidf[1].T.todense(), index=vectorizer.get_feature_names(), columns=[\"TF-IDF\"])\n",
        "df.sort_values(by=['TF-IDF'])"
      ],
      "metadata": {
        "id": "udN37q6Mje7s"
      },
      "execution_count": null,
      "outputs": []
    },
    {
      "cell_type": "markdown",
      "source": [
        "View IDF"
      ],
      "metadata": {
        "id": "ZWmgHTEGkfUc"
      }
    },
    {
      "cell_type": "code",
      "source": [
        "# print idf values\n",
        "df_idf = pd.DataFrame(vectorizer.idf_, index=vectorizer.get_feature_names(),columns=[\"idf\"])\n",
        " \n",
        "# sort ascending\n",
        "df_idf.sort_values(by=['idf'])"
      ],
      "metadata": {
        "id": "ZIAbPcXckiw8"
      },
      "execution_count": null,
      "outputs": []
    },
    {
      "cell_type": "markdown",
      "source": [
        "# **Compute TF-IDF with new sentence**"
      ],
      "metadata": {
        "id": "hvHAdT-Qk4Hg"
      }
    },
    {
      "cell_type": "code",
      "source": [
        "new_text = 'kambing hitam'\n",
        "result_tfidf = vectorizer.transform([new_text])\n",
        "\n",
        "feature_names = vectorizer.get_feature_names()"
      ],
      "metadata": {
        "id": "3vWqsII1k-29"
      },
      "execution_count": null,
      "outputs": []
    },
    {
      "cell_type": "code",
      "source": [
        "feature_names"
      ],
      "metadata": {
        "id": "NhztrCpmlByy"
      },
      "execution_count": null,
      "outputs": []
    },
    {
      "cell_type": "code",
      "source": [
        "result_tfidf.toarray()"
      ],
      "metadata": {
        "id": "TKUXInGRlH2E"
      },
      "execution_count": null,
      "outputs": []
    },
    {
      "cell_type": "markdown",
      "source": [
        "# **Bigger Dataset**"
      ],
      "metadata": {
        "id": "j9iSKnQcnIc1"
      }
    },
    {
      "cell_type": "markdown",
      "source": [
        "**Create Dataset**"
      ],
      "metadata": {
        "id": "Q2nSC65MncH5"
      }
    },
    {
      "cell_type": "code",
      "source": [
        "files = []\n",
        "files.append(\"Sekelompok ibu dan kaum perempuan duduk beralaskan rumput lapangan sambil fokus menganyam bambu yang ia genggam ditangan.\")\n",
        "files.append(\"Sebagian besar masyarakat rupanya tak mau melewatkan waktu begitu  saja untuk meratapi erupsi.\")\n",
        "files.append(\"Lombok memang memiliki sejuta pesona yang mampu menyedot perhatian orang untuk datang berwisata.\")\n",
        "files.append(\"Perempuan yang bergelut di dunia kerelawanan akan belajar caranya bertanggung jawab bagi sendiri dan orang lain.\")\n",
        "files.append(\"Kami berkoordinasi dan melapor pada posko relawan, kami berkomitmen  siap membantu dengan siaga 24 jam\")"
      ],
      "metadata": {
        "id": "_fzg7ekJnw36"
      },
      "execution_count": null,
      "outputs": []
    },
    {
      "cell_type": "markdown",
      "source": [
        "**Corpus preparation**"
      ],
      "metadata": {
        "id": "KciNZu8pn3If"
      }
    },
    {
      "cell_type": "code",
      "source": [
        "token_dict = {}\n",
        "i = 0\n",
        "for t in files:\n",
        "    filename = \"file\" + str(i)\n",
        "    token_dict[filename] = t\n",
        "    i = i + 1\n",
        "\n",
        "token_dict"
      ],
      "metadata": {
        "id": "2WYFYSGdn6OM"
      },
      "execution_count": null,
      "outputs": []
    },
    {
      "cell_type": "code",
      "source": [
        "token_dict.values()"
      ],
      "metadata": {
        "id": "IBnWdEK1oBPh"
      },
      "execution_count": null,
      "outputs": []
    },
    {
      "cell_type": "code",
      "source": [
        "token_dict['file0']"
      ],
      "metadata": {
        "id": "FIuuGeB1oQkZ"
      },
      "execution_count": null,
      "outputs": []
    },
    {
      "cell_type": "markdown",
      "source": [
        "**Compute TF-IDF**"
      ],
      "metadata": {
        "id": "IMIhjXEqoXJb"
      }
    },
    {
      "cell_type": "code",
      "source": [
        "#perform tf-idf vectorization\n",
        "tfidf = TfidfVectorizer(max_df=0.8,             # terms with document frequency value > 0.8 will be removed\n",
        "                        min_df=0.2,             # terms with document frequency value < 0.2 will be removed\n",
        "                        max_features=200000,    # create maximum 200.000 vocabulary that only consider the top max_features ordered by term frequency across the corpus.\n",
        "                        stop_words = stopwords, # stopwords list\n",
        "                        use_idf=True,           # enable inverse-document-frequency reweighting\n",
        "                        tokenizer=text_preprocessing, # override the string tokenization step by using text_prepocessing function \n",
        "                        ngram_range=(1,3))      # ngram range 1 - 3 \n",
        "\n",
        "\n",
        "tfs = tfidf.fit_transform(token_dict.values())"
      ],
      "metadata": {
        "id": "-XmY1YCuobPh"
      },
      "execution_count": null,
      "outputs": []
    },
    {
      "cell_type": "markdown",
      "source": [
        "**View Result**"
      ],
      "metadata": {
        "id": "CrKFAUZ7os89"
      }
    },
    {
      "cell_type": "code",
      "source": [
        "tfs.shape"
      ],
      "metadata": {
        "id": "9xBca-N1owKV"
      },
      "execution_count": null,
      "outputs": []
    },
    {
      "cell_type": "code",
      "source": [
        "print(tfs[0])"
      ],
      "metadata": {
        "id": "LXHX4F7Do4at"
      },
      "execution_count": null,
      "outputs": []
    },
    {
      "cell_type": "markdown",
      "source": [
        "View the list of feature"
      ],
      "metadata": {
        "id": "7uc-HTTJo8Fp"
      }
    },
    {
      "cell_type": "code",
      "source": [
        "feature_names = tfidf.get_feature_names()"
      ],
      "metadata": {
        "id": "ixn2fx8ro-Mc"
      },
      "execution_count": null,
      "outputs": []
    },
    {
      "cell_type": "code",
      "source": [
        "print(len(feature_names))"
      ],
      "metadata": {
        "id": "Jw3T_tShpCaw"
      },
      "execution_count": null,
      "outputs": []
    },
    {
      "cell_type": "code",
      "source": [
        "print(feature_names)"
      ],
      "metadata": {
        "id": "Zl0bGihTpGCO"
      },
      "execution_count": null,
      "outputs": []
    },
    {
      "cell_type": "code",
      "source": [
        "# print idf values\n",
        "df_idf = pd.DataFrame(tfidf.idf_, index=feature_names,columns=[\"idf\"])\n",
        " \n",
        "# sort ascending\n",
        "df_idf.sort_values(by=['idf'])"
      ],
      "metadata": {
        "id": "hT6EisSGpLgJ"
      },
      "execution_count": null,
      "outputs": []
    },
    {
      "cell_type": "markdown",
      "source": [
        "**New sentence TF-IDF transformation**"
      ],
      "metadata": {
        "id": "avHB1J9SpP7k"
      }
    },
    {
      "cell_type": "code",
      "source": [
        "str1 = 'Di kejauhan tampak seorang relawan pria dari Lombok sedang berjalan.'\n",
        "response = tfidf.transform([str1])\n",
        "\n",
        "#show result\n",
        "for col in response.nonzero()[1]:\n",
        "    print (feature_names[col], ' - ', response[0, col])"
      ],
      "metadata": {
        "id": "QU2Q2qj8pTTZ"
      },
      "execution_count": null,
      "outputs": []
    },
    {
      "cell_type": "code",
      "source": [
        "print(response[0])"
      ],
      "metadata": {
        "id": "7bT-Ln-xpXoW"
      },
      "execution_count": null,
      "outputs": []
    },
    {
      "cell_type": "code",
      "source": [
        "print (text_preprocessing(str1))"
      ],
      "metadata": {
        "id": "n4Ifj5YwpaNs"
      },
      "execution_count": null,
      "outputs": []
    }
  ]
}