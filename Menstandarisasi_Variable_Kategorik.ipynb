{
  "nbformat": 4,
  "nbformat_minor": 0,
  "metadata": {
    "colab": {
      "name": "Menstandarisasi Variable Kategorik.ipynb",
      "provenance": [],
      "collapsed_sections": [],
      "authorship_tag": "ABX9TyOF1KLSHBex+6E9keNC0McZ",
      "include_colab_link": true
    },
    "kernelspec": {
      "name": "python3",
      "display_name": "Python 3"
    },
    "language_info": {
      "name": "python"
    }
  },
  "cells": [
    {
      "cell_type": "markdown",
      "metadata": {
        "id": "view-in-github",
        "colab_type": "text"
      },
      "source": [
        "<a href=\"https://colab.research.google.com/github/ahsanuamal/ahsanuamal/blob/main/Menstandarisasi_Variable_Kategorik.ipynb\" target=\"_parent\"><img src=\"https://colab.research.google.com/assets/colab-badge.svg\" alt=\"Open In Colab\"/></a>"
      ]
    },
    {
      "cell_type": "code",
      "metadata": {
        "colab": {
          "base_uri": "https://localhost:8080/"
        },
        "id": "H7xuHCvagzWy",
        "outputId": "258875c5-8099-400c-a572-2d787dfdac54"
      },
      "source": [
        "import pandas as pd\n",
        "df_load = pd.read_csv('https://storage.googleapis.com/dqlab-dataset/dqlab_telco.csv')\n",
        "df_load = df_load.replace(['Wanita','Laki-Laki','Churn','Iya'],['Female','Male','Yes','Yes'])\n",
        "\n",
        "# Masukkan variable\n",
        "for col_name in list(['gender','Dependents','Churn']):\n",
        "    print('\\nUnique Values Count \\033[1m' + 'After Standardized \\033[0mVariable',col_name)\n",
        "    print(df_load[col_name].value_counts())"
      ],
      "execution_count": 1,
      "outputs": [
        {
          "output_type": "stream",
          "name": "stdout",
          "text": [
            "\n",
            "Unique Values Count \u001b[1mAfter Standardized \u001b[0mVariable gender\n",
            "Male      3587\n",
            "Female    3526\n",
            "Name: gender, dtype: int64\n",
            "\n",
            "Unique Values Count \u001b[1mAfter Standardized \u001b[0mVariable Dependents\n",
            "No     4978\n",
            "Yes    2135\n",
            "Name: Dependents, dtype: int64\n",
            "\n",
            "Unique Values Count \u001b[1mAfter Standardized \u001b[0mVariable Churn\n",
            "No     5195\n",
            "Yes    1875\n",
            "Name: Churn, dtype: int64\n"
          ]
        }
      ]
    }
  ]
}