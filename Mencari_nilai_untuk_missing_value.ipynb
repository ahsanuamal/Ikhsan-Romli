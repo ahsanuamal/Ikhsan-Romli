{
  "nbformat": 4,
  "nbformat_minor": 0,
  "metadata": {
    "colab": {
      "name": "Mencari nilai untuk missing value.ipynb",
      "provenance": [],
      "collapsed_sections": [],
      "authorship_tag": "ABX9TyNO/NTr5HDERJwngt5Xd1Cw",
      "include_colab_link": true
    },
    "kernelspec": {
      "name": "python3",
      "display_name": "Python 3"
    },
    "language_info": {
      "name": "python"
    }
  },
  "cells": [
    {
      "cell_type": "markdown",
      "metadata": {
        "id": "view-in-github",
        "colab_type": "text"
      },
      "source": [
        "<a href=\"https://colab.research.google.com/github/ahsanuamal/ahsanuamal/blob/main/Mencari_nilai_untuk_missing_value.ipynb\" target=\"_parent\"><img src=\"https://colab.research.google.com/assets/colab-badge.svg\" alt=\"Open In Colab\"/></a>"
      ]
    },
    {
      "cell_type": "code",
      "metadata": {
        "colab": {
          "base_uri": "https://localhost:8080/"
        },
        "id": "rhS4jptzJ8BQ",
        "outputId": "ce23019b-1d68-485e-c05f-cf4c032ffb0c"
      },
      "source": [
        "import pandas as pd\n",
        "\n",
        "def concat_df(train_data, test_data):\n",
        "\treturn pd.concat([train_data, test_data], sort=True).reset_index(drop=True)\n",
        "\n",
        "df_train = pd.read_csv('https://storage.googleapis.com/dqlab-dataset/challenge/feature-engineering/titanic_train.csv')\n",
        "df_test = pd.read_csv('https://storage.googleapis.com/dqlab-dataset/challenge/feature-engineering/titanic_test.csv')\n",
        "df_all = concat_df(df_train, df_test)\n",
        "df_train.name = 'Training Set'\n",
        "df_test.name = 'Test Set'\n",
        "df_all.name = 'All Set' \n",
        "dfs = [df_train, df_test]\n",
        "\n",
        "age_by_pclass_sex = df_all.groupby(['Sex', 'Pclass']).median()['Age']\n",
        "\n",
        "for pclass in range(1, 4):\n",
        "\tfor sex in ['female', 'male']:\n",
        "\t\tprint('Median age of Pclass {} {}s: {}'.format(pclass, sex, age_by_pclass_sex[sex][pclass]))\n",
        "print('Median age of all passengers: {}'.format(df_all['Age'].median()))\n",
        "\n",
        "# Filling the missing values in Age with the medians of Sex and Pclass groups\n",
        "df_all['Age'] = df_all.groupby(['Sex', 'Pclass'])['Age'].apply(lambda x: x.fillna(x.median()))"
      ],
      "execution_count": 1,
      "outputs": [
        {
          "output_type": "stream",
          "name": "stdout",
          "text": [
            "Median age of Pclass 1 females: 36.0\n",
            "Median age of Pclass 1 males: 42.0\n",
            "Median age of Pclass 2 females: 28.0\n",
            "Median age of Pclass 2 males: 29.5\n",
            "Median age of Pclass 3 females: 22.0\n",
            "Median age of Pclass 3 males: 25.0\n",
            "Median age of all passengers: 28.0\n"
          ]
        }
      ]
    }
  ]
}