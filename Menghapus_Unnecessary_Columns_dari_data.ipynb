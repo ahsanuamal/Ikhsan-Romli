{
  "nbformat": 4,
  "nbformat_minor": 0,
  "metadata": {
    "colab": {
      "name": "Menghapus Unnecessary Columns dari data.ipynb",
      "provenance": [],
      "collapsed_sections": [],
      "authorship_tag": "ABX9TyOQ/rj8MHrD/LeD2AXP4hQW",
      "include_colab_link": true
    },
    "kernelspec": {
      "name": "python3",
      "display_name": "Python 3"
    },
    "language_info": {
      "name": "python"
    }
  },
  "cells": [
    {
      "cell_type": "markdown",
      "metadata": {
        "id": "view-in-github",
        "colab_type": "text"
      },
      "source": [
        "<a href=\"https://colab.research.google.com/github/ahsanuamal/ahsanuamal/blob/main/Menghapus_Unnecessary_Columns_dari_data.ipynb\" target=\"_parent\"><img src=\"https://colab.research.google.com/assets/colab-badge.svg\" alt=\"Open In Colab\"/></a>"
      ]
    },
    {
      "cell_type": "code",
      "metadata": {
        "colab": {
          "base_uri": "https://localhost:8080/"
        },
        "id": "AMCV2jBG0UOC",
        "outputId": "baef5e90-77f8-43e1-cdc4-872133d9e171"
      },
      "source": [
        "import pandas as pd\n",
        "df_load = pd.read_csv('https://storage.googleapis.com/dqlab-dataset/dqlab_telco_final.csv')\n",
        "\n",
        "#Remove the unnecessary columns customerID & UpdatedAt\n",
        "cleaned_df = df_load.drop(['customerID','UpdatedAt'], axis=1)\n",
        "print(cleaned_df.head())"
      ],
      "execution_count": 1,
      "outputs": [
        {
          "output_type": "stream",
          "text": [
            "   gender SeniorCitizen Partner  ...  MonthlyCharges TotalCharges Churn\n",
            "0  Female            No     Yes  ...           29.85        29.85    No\n",
            "1    Male            No     Yes  ...           20.50      1198.80    No\n",
            "2    Male            No      No  ...          104.10       541.90   Yes\n",
            "3  Female            No     Yes  ...          115.50      8312.75    No\n",
            "4  Female            No     Yes  ...           81.25      4620.40    No\n",
            "\n",
            "[5 rows x 11 columns]\n"
          ],
          "name": "stdout"
        }
      ]
    }
  ]
}