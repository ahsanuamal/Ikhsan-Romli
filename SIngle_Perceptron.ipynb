{
  "nbformat": 4,
  "nbformat_minor": 0,
  "metadata": {
    "colab": {
      "name": "SIngle_Perceptron.ipynb",
      "provenance": [],
      "authorship_tag": "ABX9TyMuzXTCut4zVvYD0+8Jzdzq",
      "include_colab_link": true
    },
    "kernelspec": {
      "name": "python3",
      "display_name": "Python 3"
    },
    "language_info": {
      "name": "python"
    }
  },
  "cells": [
    {
      "cell_type": "markdown",
      "metadata": {
        "id": "view-in-github",
        "colab_type": "text"
      },
      "source": [
        "<a href=\"https://colab.research.google.com/github/ahsanuamal/ahsanuamal/blob/main/SIngle_Perceptron.ipynb\" target=\"_parent\"><img src=\"https://colab.research.google.com/assets/colab-badge.svg\" alt=\"Open In Colab\"/></a>"
      ]
    },
    {
      "cell_type": "code",
      "metadata": {
        "id": "PF9JmBt92dFR"
      },
      "source": [
        "#import library yang dibutuhkan\n",
        "import numpy as np\n",
        "from matplotlib import pyplot as plt"
      ],
      "execution_count": 1,
      "outputs": []
    },
    {
      "cell_type": "code",
      "metadata": {
        "id": "YnbxOb8f2g2R"
      },
      "source": [
        "#data input = gerbang logika AND\n",
        "inputLogikaAnd = np.matrix([[-1,-1],[-1,1],[1,-1],[1,1]])\n",
        "bias = np.matrix([[1],[1],[1],[1]])\n",
        "#menambahkan bias bernilai 1, ke input pada kolom ketiga\n",
        "x = np.concatenate((inputLogikaAnd,bias), axis=1)"
      ],
      "execution_count": 2,
      "outputs": []
    },
    {
      "cell_type": "code",
      "metadata": {
        "id": "T3lvHTPH2jP_"
      },
      "source": [
        "#inisasi bobot w dg nilai nol\n",
        "w = np.full((3,1),0)"
      ],
      "execution_count": 3,
      "outputs": []
    },
    {
      "cell_type": "code",
      "metadata": {
        "id": "UjS20TpR2lPe"
      },
      "source": [
        "#label ground truth\n",
        "gt = np.matrix([[-1], [-1], [-1], [1]])"
      ],
      "execution_count": 4,
      "outputs": []
    },
    {
      "cell_type": "code",
      "metadata": {
        "id": "oby2hjEo2ne-"
      },
      "source": [
        "#definisikan learning rate, misal 0.5\n",
        "n = 0.5"
      ],
      "execution_count": 5,
      "outputs": []
    },
    {
      "cell_type": "code",
      "metadata": {
        "colab": {
          "base_uri": "https://localhost:8080/"
        },
        "id": "XaJP6WaU2v_V",
        "outputId": "03c6d12b-9b51-4b42-b994-b9455fefd393"
      },
      "source": [
        "#loop hingga konvergen\n",
        "counter = 0; iterasi = 0\n",
        "while(True):\n",
        "    iterasi += 1\n",
        "    print(\"---------------------------\")\n",
        "    print(\"itearsi-\"+str(iterasi))\n",
        "    y=w.T.dot(x[counter,:].T)\n",
        "    #update W dengan formula 10.8\n",
        "    w = np.add(w, n*np.asscalar((gt[counter]) - y)\n",
        "               *x[counter,:].T)\n",
        "    #cek apakah sudah konvergen, jika iya maka stop (break)\n",
        "    y_sign = np.sign(w.T.dot(x.T))\n",
        "    if ((y_sign.T == gt).all()):\n",
        "        break\n",
        "    counter = counter + 1\n",
        "    # reset counter ke nol jika sudah sampai ke baris data terakhir\n",
        "    if (counter == x.shape[0] - 1):\n",
        "        counter = 0\n",
        "\n",
        "print(\"\\nIterasi selesai!\")\n",
        "print(\"paremeter W:\\n\", w)\n",
        "print(\"ground truth label:\\n\", gt)\n",
        "print(\"prediksi:\\n\", y_sign.T)"
      ],
      "execution_count": 6,
      "outputs": [
        {
          "output_type": "stream",
          "text": [
            "---------------------------\n",
            "itearsi-1\n",
            "\n",
            "Iterasi selesai!\n",
            "paremeter W:\n",
            " [[ 0.5]\n",
            " [ 0.5]\n",
            " [-0.5]]\n",
            "ground truth label:\n",
            " [[-1]\n",
            " [-1]\n",
            " [-1]\n",
            " [ 1]]\n",
            "prediksi:\n",
            " [[-1.]\n",
            " [-1.]\n",
            " [-1.]\n",
            " [ 1.]]\n"
          ],
          "name": "stdout"
        },
        {
          "output_type": "stream",
          "text": [
            "/usr/local/lib/python3.7/dist-packages/ipykernel_launcher.py:10: DeprecationWarning: np.asscalar(a) is deprecated since NumPy v1.16, use a.item() instead\n",
            "  # Remove the CWD from sys.path while we load stuff.\n"
          ],
          "name": "stderr"
        }
      ]
    },
    {
      "cell_type": "code",
      "metadata": {
        "id": "HvX2frJ73AiA"
      },
      "source": [
        "#kode di bawah ini untuk mengeplot decision boundary saja\n",
        "\n",
        "#fungsi untuk membuat mesh points sebagai input\n",
        "#saat mengeplot contour dari decision boundary\n",
        "def buatMeshGrid(x, y, h=.02):\n",
        "    x_min, x_max = x.min() - 1, x.max() + 1\n",
        "    y_min, y_max = y.min() - 1, y.max() + 1\n",
        "    xx, yy = np.meshgrid(np.arange(x_min, x_max, h),\n",
        "                         np.arange(y_min, y_max, h))\n",
        "    return xx, yy"
      ],
      "execution_count": 7,
      "outputs": []
    },
    {
      "cell_type": "code",
      "metadata": {
        "id": "hGX_oVrF3KPE"
      },
      "source": [
        "#fungsi untuk mengeplot contour dari decision boundary\n",
        "def plot_contours(w, xx, yy, **params):\n",
        "    bias_mesh = np.full((yy.ravel().shape[0]),1)\n",
        "    input_mesh = np.vstack([xx.ravel(), yy.ravel(), bias_mesh])\n",
        "    Z = np.sign(np.dot(w.T,input_mesh))\n",
        "    Z = Z.reshape(xx.shape)\n",
        "    out = plt.contourf(xx, yy, Z, **params)\n",
        "    return out"
      ],
      "execution_count": 8,
      "outputs": []
    },
    {
      "cell_type": "code",
      "metadata": {
        "colab": {
          "base_uri": "https://localhost:8080/",
          "height": 295
        },
        "id": "50atsDtU3MWf",
        "outputId": "4cf5d34f-7a93-4a03-b2de-755868a50024"
      },
      "source": [
        "#plot decision boundary\n",
        "X0, X1 = np.array(inputLogikaAnd[:,0]), np.array(inputLogikaAnd[:,1])\n",
        "xx, yy = buatMeshGrid(X0, X1)\n",
        "plt.figure()\n",
        "plt.title(\"Decision boundary\")\n",
        "plot_contours(w, xx, yy,  cmap=plt.cm.gray, alpha=0.8)\n",
        "plt.scatter(X0[gt==1], X1[gt==1], marker='^',\n",
        "            s=70, c='black', label='True (+1)')\n",
        "plt.scatter(X0[gt==-1], X1[gt==-1], marker='x',\n",
        "            s=90, c='black', label='False (-1)')\n",
        "plt.legend()\n",
        "plt.xlabel('X1')\n",
        "plt.ylabel('X2')\n",
        "plt.show()"
      ],
      "execution_count": 9,
      "outputs": [
        {
          "output_type": "display_data",
          "data": {
            "image/png": "[encoded data removed]",
            "text/plain": [
              "<Figure size 432x288 with 1 Axes>"
            ]
          },
          "metadata": {
            "tags": [],
            "needs_background": "light"
          }
        }
      ]
    }
  ]
}