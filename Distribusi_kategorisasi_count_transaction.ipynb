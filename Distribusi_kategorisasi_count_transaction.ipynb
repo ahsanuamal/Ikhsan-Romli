{
  "nbformat": 4,
  "nbformat_minor": 0,
  "metadata": {
    "colab": {
      "name": "Distribusi kategorisasi count transaction.ipynb",
      "provenance": [],
      "collapsed_sections": [],
      "authorship_tag": "ABX9TyM1P9Go0lacdAfu1VHmnsgp",
      "include_colab_link": true
    },
    "kernelspec": {
      "name": "python3",
      "display_name": "Python 3"
    },
    "language_info": {
      "name": "python"
    }
  },
  "cells": [
    {
      "cell_type": "markdown",
      "metadata": {
        "id": "view-in-github",
        "colab_type": "text"
      },
      "source": [
        "<a href=\"https://colab.research.google.com/github/ahsanuamal/ahsanuamal/blob/main/Distribusi_kategorisasi_count_transaction.ipynb\" target=\"_parent\"><img src=\"https://colab.research.google.com/assets/colab-badge.svg\" alt=\"Open In Colab\"/></a>"
      ]
    },
    {
      "cell_type": "code",
      "metadata": {
        "colab": {
          "base_uri": "https://localhost:8080/",
          "height": 297
        },
        "id": "ErZecmjYIAGF",
        "outputId": "0942b64d-7243-42f3-af7a-308eb175e2d4"
      },
      "source": [
        "import pandas as pd\n",
        "df = pd.read_csv('https://storage.googleapis.com/dqlab-dataset/data_retail.csv', sep=';')\n",
        "df['First_Transaction'] = pd.to_datetime(df['First_Transaction']/1000, unit='s', origin='1970-01-01')\n",
        "df['Last_Transaction'] = pd.to_datetime(df['Last_Transaction']/1000, unit='s', origin='1970-01-01')\n",
        "df['Year_First_Transaction'] = df['First_Transaction'].dt.year\n",
        "df['Year_Last_Transaction'] = df['Last_Transaction'].dt.year\n",
        "df.loc[df['Last_Transaction'] <= '2018-08-01', 'is_churn'] = True \n",
        "df.loc[df['Last_Transaction'] > '2018-08-01', 'is_churn'] = False \n",
        "\n",
        "import matplotlib.pyplot as plt\n",
        "\n",
        "plt.clf()\n",
        "# Kategorisasi jumlah transaksi\n",
        "def func(row):\n",
        "    if row['Count_Transaction'] == 1:\n",
        "        val = '1. 1'\n",
        "    elif (row['Count_Transaction'] >1 and row['Count_Transaction'] <= 3):\n",
        "        val ='2. 2 - 3'\n",
        "    elif (row['Count_Transaction'] >3 and row['Count_Transaction'] <= 6):\n",
        "        val ='3. 4 - 6'\n",
        "    elif (row['Count_Transaction'] >6 and row['Count_Transaction'] <= 10):\n",
        "        val ='4. 7 - 10'\n",
        "    else:\n",
        "        val ='5. >10'\n",
        "    return val\n",
        "# Tambahkan kolom baru\n",
        "df['Count_Transaction_Group'] = df.apply(func, axis=1)\n",
        "\n",
        "df_year = df.groupby(['Count_Transaction_Group'])['Customer_ID'].count()\n",
        "df_year.plot(x='Count_Transaction_Group', y='Customer_ID', kind='bar', title='Customer Distribution by Count Transaction Group')\n",
        "plt.xlabel('Count_Transaction_Group')\n",
        "plt.ylabel('Num_of_Customer')\n",
        "plt.tight_layout()\n",
        "plt.show()"
      ],
      "execution_count": 7,
      "outputs": [
        {
          "output_type": "display_data",
          "data": {
            "image/png": "[encoded data removed]",
            "text/plain": [
              "<Figure size 432x288 with 1 Axes>"
            ]
          },
          "metadata": {
            "needs_background": "light"
          }
        }
      ]
    }
  ]
}