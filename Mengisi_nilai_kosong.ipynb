{
  "nbformat": 4,
  "nbformat_minor": 0,
  "metadata": {
    "colab": {
      "name": "Mengisi nilai kosong.ipynb",
      "provenance": [],
      "collapsed_sections": [],
      "authorship_tag": "ABX9TyMBoCNcpGn1yETqnocR9yYD",
      "include_colab_link": true
    },
    "kernelspec": {
      "name": "python3",
      "display_name": "Python 3"
    },
    "language_info": {
      "name": "python"
    }
  },
  "cells": [
    {
      "cell_type": "markdown",
      "metadata": {
        "id": "view-in-github",
        "colab_type": "text"
      },
      "source": [
        "<a href=\"https://colab.research.google.com/github/ahsanuamal/ahsanuamal/blob/main/Mengisi_nilai_kosong.ipynb\" target=\"_parent\"><img src=\"https://colab.research.google.com/assets/colab-badge.svg\" alt=\"Open In Colab\"/></a>"
      ]
    },
    {
      "cell_type": "code",
      "metadata": {
        "id": "RR8XM4XGLf9G"
      },
      "source": [
        "import pandas as pd\n",
        "\n",
        "def concat_df(train_data, test_data):\n",
        "\treturn pd.concat([train_data, test_data], sort=True).reset_index(drop=True)\n",
        "\n",
        "df_train = pd.read_csv('https://storage.googleapis.com/dqlab-dataset/challenge/feature-engineering/titanic_train.csv')\n",
        "df_test = pd.read_csv('https://storage.googleapis.com/dqlab-dataset/challenge/feature-engineering/titanic_test.csv')\n",
        "df_all = concat_df(df_train, df_test)\n",
        "df_train.name = 'Training Set'\n",
        "df_test.name = 'Test Set'\n",
        "df_all.name = 'All Set' \n",
        "dfs = [df_train, df_test]\n",
        "\n",
        "age_by_pclass_sex = df_all.groupby(['Sex', 'Pclass']).median()['Age']\n",
        "df_all['Age'] = df_all.groupby(['Sex', 'Pclass'])['Age'].apply(lambda x: x.fillna(x.median()))\n",
        "\n",
        "# Filling the missing values in Embarked with S\n",
        "df_all['Embarked'] = df_all['Embarked'].fillna('S')\n",
        "\n",
        "med_fare = df_all.groupby(['Pclass', 'Parch', 'SibSp']).Fare.median()[3][0][0]\n",
        "# Filling the missing value in Fare with the median Fare of 3rd class alone passenger\n",
        "df_all['Fare'] = df_all['Fare'].fillna(med_fare)"
      ],
      "execution_count": 2,
      "outputs": []
    }
  ]
}