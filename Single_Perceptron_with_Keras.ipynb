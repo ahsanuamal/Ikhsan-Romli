{
  "nbformat": 4,
  "nbformat_minor": 0,
  "metadata": {
    "colab": {
      "name": "Single_Perceptron_with_Keras.ipynb",
      "provenance": [],
      "authorship_tag": "ABX9TyNHffOmG6zeQ5YPKWkDuQqs",
      "include_colab_link": true
    },
    "kernelspec": {
      "name": "python3",
      "display_name": "Python 3"
    },
    "language_info": {
      "name": "python"
    }
  },
  "cells": [
    {
      "cell_type": "markdown",
      "metadata": {
        "id": "view-in-github",
        "colab_type": "text"
      },
      "source": [
        "<a href=\"https://colab.research.google.com/github/ahsanuamal/ahsanuamal/blob/main/Single_Perceptron_with_Keras.ipynb\" target=\"_parent\"><img src=\"https://colab.research.google.com/assets/colab-badge.svg\" alt=\"Open In Colab\"/></a>"
      ]
    },
    {
      "cell_type": "code",
      "metadata": {
        "id": "gJWsd8W53qpr"
      },
      "source": [
        "#mengimport library yang dibutuhkan\n",
        "import numpy as np\n",
        "from keras.models import Sequential\n",
        "from keras.layers import Dense\n",
        "from matplotlib import pyplot as plt"
      ],
      "execution_count": 1,
      "outputs": []
    },
    {
      "cell_type": "code",
      "metadata": {
        "id": "pXeyVdIe4Cv6"
      },
      "source": [
        "#mendefinisikan input training (gerbang AND)\n",
        "inputTraining = np.array([[-1,-1],[-1,1],[1,-1],[1,1]])\n",
        "labelTraining = np.array([[-1],[-1],[-1],[1]])"
      ],
      "execution_count": 2,
      "outputs": []
    },
    {
      "cell_type": "code",
      "metadata": {
        "id": "rBHEwegt4KTd"
      },
      "source": [
        "#mendefinisikan klasifier NN\n",
        "inputSize = inputTraining.shape[1]\n",
        "model = Sequential()\n",
        "model.add(Dense(units=1, input_dim=inputSize, use_bias=True,\n",
        "                kernel_initializer = 'zeros',\n",
        "                bias_initializer = 'zeros'))\n",
        "model.compile(loss='mean_squared_error',\n",
        "              optimizer='sgd')"
      ],
      "execution_count": 3,
      "outputs": []
    },
    {
      "cell_type": "code",
      "metadata": {
        "colab": {
          "base_uri": "https://localhost:8080/"
        },
        "id": "5T9ioHeH4OVZ",
        "outputId": "c96bc927-bcd9-46fd-9652-6610200cc853"
      },
      "source": [
        "#train NN\n",
        "model.fit(inputTraining, labelTraining, epochs=5, batch_size=1)"
      ],
      "execution_count": 4,
      "outputs": [
        {
          "output_type": "stream",
          "text": [
            "Epoch 1/5\n",
            "4/4 [==============================] - 13s 3ms/step - loss: 0.9933\n",
            "Epoch 2/5\n",
            "4/4 [==============================] - 0s 2ms/step - loss: 0.8487\n",
            "Epoch 3/5\n",
            "4/4 [==============================] - 0s 2ms/step - loss: 0.7281\n",
            "Epoch 4/5\n",
            "4/4 [==============================] - 0s 2ms/step - loss: 0.6283\n",
            "Epoch 5/5\n",
            "4/4 [==============================] - 0s 2ms/step - loss: 0.5462\n"
          ],
          "name": "stdout"
        },
        {
          "output_type": "execute_result",
          "data": {
            "text/plain": [
              "<keras.callbacks.History at 0x7fc5dcb91990>"
            ]
          },
          "metadata": {
            "tags": []
          },
          "execution_count": 4
        }
      ]
    },
    {
      "cell_type": "code",
      "metadata": {
        "colab": {
          "base_uri": "https://localhost:8080/"
        },
        "id": "kKVT8c6G4Wf_",
        "outputId": "77af2ba8-a9d9-4434-a095-a678029a75d0"
      },
      "source": [
        "#memprediksi data testing dengan model NN yg sdh ditraining\n",
        "hasilPrediksi = np.sign(model.predict(inputTraining, batch_size=1).ravel())\n",
        "print(\"label ground truth:\\n\", labelTraining)\n",
        "print(\"hasil prediksi:\\n\", hasilPrediksi)"
      ],
      "execution_count": 6,
      "outputs": [
        {
          "output_type": "stream",
          "text": [
            "label ground truth:\n",
            " [[-1]\n",
            " [-1]\n",
            " [-1]\n",
            " [ 1]]\n",
            "hasil prediksi:\n",
            " [-1. -1. -1.  1.]\n"
          ],
          "name": "stdout"
        }
      ]
    },
    {
      "cell_type": "code",
      "metadata": {
        "colab": {
          "base_uri": "https://localhost:8080/"
        },
        "id": "bgR7xb4P4fzF",
        "outputId": "ebe91867-1138-4473-8860-bc75e09a7c2a"
      },
      "source": [
        "#print bobot hasil training\n",
        "weights = []\n",
        "for layer in model.layers:\n",
        "    weights.append(layer.get_weights())\n",
        "print(\"bobot W:\\n\", weights)"
      ],
      "execution_count": 7,
      "outputs": [
        {
          "output_type": "stream",
          "text": [
            "bobot W:\n",
            " [[array([[0.17119707],\n",
            "       [0.17017794]], dtype=float32), array([-0.17076959], dtype=float32)]]\n"
          ],
          "name": "stdout"
        }
      ]
    },
    {
      "cell_type": "code",
      "metadata": {
        "id": "1DXfNDZF4i_e"
      },
      "source": [
        "#kode di bawah ini untuk mengeplot decision boundary saja\n",
        "\n",
        "#fungsi untuk membuat mesh points sebagai input\n",
        "#saat mengeplot contour dari decision boundary\n",
        "def make_meshgrid(x, y, h=.02):\n",
        "    x_min, x_max = x.min() - 1, x.max() + 1\n",
        "    y_min, y_max = y.min() - 1, y.max() + 1\n",
        "    xx, yy = np.meshgrid(np.arange(x_min, x_max, h),\n",
        "                         np.arange(y_min, y_max, h))\n",
        "    return xx, yy"
      ],
      "execution_count": 8,
      "outputs": []
    },
    {
      "cell_type": "code",
      "metadata": {
        "id": "0d9Vzi994pJE"
      },
      "source": [
        "#fungsi untuk mengeplot contour dari decision boundary\n",
        "def plot_contours(clf, xx, yy, **params):\n",
        "    input_mesh = np.c_[xx.ravel(), yy.ravel()]\n",
        "    Z = np.sign(clf.predict(input_mesh))\n",
        "    Z = Z.reshape(xx.shape)\n",
        "    out = plt.contourf(xx, yy, Z, **params)\n",
        "    return out"
      ],
      "execution_count": 9,
      "outputs": []
    },
    {
      "cell_type": "code",
      "metadata": {
        "colab": {
          "base_uri": "https://localhost:8080/",
          "height": 295
        },
        "id": "ML7pfJgt4up0",
        "outputId": "2b1acd5d-76e2-4b79-afbb-3672849f36aa"
      },
      "source": [
        "#plot decision boundary\n",
        "X0, X1 = inputTraining[:, 0], inputTraining[:, 1]\n",
        "xx, yy = make_meshgrid(X0, X1)\n",
        "plt.figure()\n",
        "plt.title(\"Decision boundary\")\n",
        "plot_contours(model, xx, yy,  cmap=plt.cm.gray, alpha=0.8)\n",
        "plt.scatter(X0[labelTraining.ravel()==1], X1[labelTraining.ravel()==1],\n",
        "            marker='^', s=70, c='black', label='True (+1)')\n",
        "plt.scatter(X0[labelTraining.ravel()==-1], X1[labelTraining.ravel()==-1],\n",
        "            marker='x', s=80, c='black', label='False (-1)')\n",
        "plt.legend()\n",
        "plt.xlabel('X1')\n",
        "plt.ylabel('X2')\n",
        "plt.show()"
      ],
      "execution_count": 10,
      "outputs": [
        {
          "output_type": "display_data",
          "data": {
            "image/png": "[encoded data removed]",
            "text/plain": [
              "<Figure size 432x288 with 1 Axes>"
            ]
          },
          "metadata": {
            "tags": [],
            "needs_background": "light"
          }
        }
      ]
    }
  ]
}