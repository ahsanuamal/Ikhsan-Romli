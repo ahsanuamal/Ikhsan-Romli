{
  "nbformat": 4,
  "nbformat_minor": 0,
  "metadata": {
    "colab": {
      "name": "Exploring Data.ipynb",
      "provenance": [],
      "collapsed_sections": [],
      "authorship_tag": "ABX9TyPWeHi9iu/+pkHwbYE06G3i",
      "include_colab_link": true
    },
    "kernelspec": {
      "name": "python3",
      "display_name": "Python 3"
    },
    "language_info": {
      "name": "python"
    }
  },
  "cells": [
    {
      "cell_type": "markdown",
      "metadata": {
        "id": "view-in-github",
        "colab_type": "text"
      },
      "source": [
        "<a href=\"https://colab.research.google.com/github/ahsanuamal/ahsanuamal/blob/main/Exploring_Data.ipynb\" target=\"_parent\"><img src=\"https://colab.research.google.com/assets/colab-badge.svg\" alt=\"Open In Colab\"/></a>"
      ]
    },
    {
      "cell_type": "code",
      "metadata": {
        "colab": {
          "base_uri": "https://localhost:8080/"
        },
        "id": "nADiHZv-AFXp",
        "outputId": "f4b0dbf0-2866-4541-c9fe-cad19e997510"
      },
      "source": [
        "import pandas as pd\n",
        "\n",
        "def concat_df(train_data, test_data):\n",
        "\treturn pd.concat([train_data, test_data], sort=True).reset_index(drop=True)\n",
        "\n",
        "df_train = pd.read_csv('https://storage.googleapis.com/dqlab-dataset/challenge/feature-engineering/titanic_train.csv')\n",
        "df_test = pd.read_csv('https://storage.googleapis.com/dqlab-dataset/challenge/feature-engineering/titanic_test.csv')\n",
        "df_all = concat_df(df_train, df_test)\n",
        "df_train.name = 'Training Set'\n",
        "df_test.name = 'Test Set'\n",
        "df_all.name = 'All Set' \n",
        "dfs = [df_train, df_test]\n",
        "\n",
        "print('Number of Training Examples = {}'.format(df_train.shape[0]))\n",
        "print('Number of Test Examples = {}\\n'.format(df_test.shape[0]))\n",
        "print('Training X Shape = {}'.format(df_train.shape))\n",
        "print('Training y Shape = {}\\n'.format(df_train['Survived'].shape[0]))\n",
        "print('Test X Shape = {}'.format(df_test.shape))\n",
        "print('Test y Shape = {}\\n'.format(df_test.shape[0]))\n",
        "print(df_train.columns)\n",
        "print(df_test.columns)"
      ],
      "execution_count": 1,
      "outputs": [
        {
          "output_type": "stream",
          "name": "stdout",
          "text": [
            "Number of Training Examples = 891\n",
            "Number of Test Examples = 418\n",
            "\n",
            "Training X Shape = (891, 12)\n",
            "Training y Shape = 891\n",
            "\n",
            "Test X Shape = (418, 11)\n",
            "Test y Shape = 418\n",
            "\n",
            "Index(['PassengerId', 'Survived', 'Pclass', 'Name', 'Sex', 'Age', 'SibSp',\n",
            "       'Parch', 'Ticket', 'Fare', 'Cabin', 'Embarked'],\n",
            "      dtype='object')\n",
            "Index(['PassengerId', 'Pclass', 'Name', 'Sex', 'Age', 'SibSp', 'Parch',\n",
            "       'Ticket', 'Fare', 'Cabin', 'Embarked'],\n",
            "      dtype='object')\n"
          ]
        }
      ]
    }
  ]
}