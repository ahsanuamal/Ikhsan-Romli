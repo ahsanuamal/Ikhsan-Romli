{
  "nbformat": 4,
  "nbformat_minor": 0,
  "metadata": {
    "colab": {
      "name": "Feature Columns dan Target.ipynb",
      "provenance": [],
      "collapsed_sections": [],
      "authorship_tag": "ABX9TyNM96iubKtaUS3tbcvOmB30",
      "include_colab_link": true
    },
    "kernelspec": {
      "name": "python3",
      "display_name": "Python 3"
    },
    "language_info": {
      "name": "python"
    }
  },
  "cells": [
    {
      "cell_type": "markdown",
      "metadata": {
        "id": "view-in-github",
        "colab_type": "text"
      },
      "source": [
        "<a href=\"https://colab.research.google.com/github/ahsanuamal/ahsanuamal/blob/main/Feature_Columns_dan_Target.ipynb\" target=\"_parent\"><img src=\"https://colab.research.google.com/assets/colab-badge.svg\" alt=\"Open In Colab\"/></a>"
      ]
    },
    {
      "cell_type": "code",
      "metadata": {
        "id": "KqxC99EcOQ73"
      },
      "source": [
        "import pandas as pd\n",
        "df = pd.read_csv('https://storage.googleapis.com/dqlab-dataset/data_retail.csv', sep=';')\n",
        "df['First_Transaction'] = pd.to_datetime(df['First_Transaction']/1000, unit='s', origin='1970-01-01')\n",
        "df['Last_Transaction'] = pd.to_datetime(df['Last_Transaction']/1000, unit='s', origin='1970-01-01')\n",
        "df['Year_First_Transaction'] = df['First_Transaction'].dt.year\n",
        "df['Year_Last_Transaction'] = df['Last_Transaction'].dt.year\n",
        "df.loc[df['Last_Transaction'] <= '2018-08-01', 'is_churn'] = True\n",
        "df.loc[df['Last_Transaction'] > '2018-08-01', 'is_churn'] = False\n",
        "\n",
        "# Feature column: Year_Diff\n",
        "df['Year_Diff']=df['Year_Last_Transaction']-df['Year_First_Transaction']\n",
        "\n",
        "# Nama-nama feature columns\n",
        "feature_columns = ['Average_Transaction_Amount', 'Count_Transaction', 'Year_Diff']\n",
        "\n",
        "# Features variable\n",
        "X = df[feature_columns]\n",
        "\n",
        "# Target variable\n",
        "y = df['is_churn']"
      ],
      "execution_count": 3,
      "outputs": []
    }
  ]
}