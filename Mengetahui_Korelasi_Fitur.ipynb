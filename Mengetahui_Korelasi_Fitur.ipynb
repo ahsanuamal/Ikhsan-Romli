{
  "nbformat": 4,
  "nbformat_minor": 0,
  "metadata": {
    "colab": {
      "name": "Mengetahui Korelasi Fitur.ipynb",
      "provenance": [],
      "collapsed_sections": [],
      "authorship_tag": "ABX9TyPVKFPwqP8aY4cesDF0iMD5",
      "include_colab_link": true
    },
    "kernelspec": {
      "name": "python3",
      "display_name": "Python 3"
    },
    "language_info": {
      "name": "python"
    }
  },
  "cells": [
    {
      "cell_type": "markdown",
      "metadata": {
        "id": "view-in-github",
        "colab_type": "text"
      },
      "source": [
        "<a href=\"https://colab.research.google.com/github/ahsanuamal/ahsanuamal/blob/main/Mengetahui_Korelasi_Fitur.ipynb\" target=\"_parent\"><img src=\"https://colab.research.google.com/assets/colab-badge.svg\" alt=\"Open In Colab\"/></a>"
      ]
    },
    {
      "cell_type": "code",
      "metadata": {
        "colab": {
          "base_uri": "https://localhost:8080/"
        },
        "id": "9w8jhZ9WHrB3",
        "outputId": "84dea60b-e73f-427c-d16f-12db9f39cc42"
      },
      "source": [
        "import pandas as pd\n",
        "\n",
        "def concat_df(train_data, test_data):\n",
        "\treturn pd.concat([train_data, test_data], sort=True).reset_index(drop=True)\n",
        "\n",
        "df_train = pd.read_csv('https://storage.googleapis.com/dqlab-dataset/challenge/feature-engineering/titanic_train.csv')\n",
        "df_test = pd.read_csv('https://storage.googleapis.com/dqlab-dataset/challenge/feature-engineering/titanic_test.csv')\n",
        "df_all = concat_df(df_train, df_test)\n",
        "df_train.name = 'Training Set'\n",
        "df_test.name = 'Test Set'\n",
        "df_all.name = 'All Set' \n",
        "dfs = [df_train, df_test]\n",
        "\n",
        "df_train_corr = df_train.corr().abs()\n",
        "print(df_train_corr.to_string())"
      ],
      "execution_count": 1,
      "outputs": [
        {
          "output_type": "stream",
          "name": "stdout",
          "text": [
            "             PassengerId  Survived    Pclass       Age     SibSp     Parch      Fare\n",
            "PassengerId     1.000000  0.005007  0.035144  0.036847  0.057527  0.001652  0.012658\n",
            "Survived        0.005007  1.000000  0.338481  0.077221  0.035322  0.081629  0.257307\n",
            "Pclass          0.035144  0.338481  1.000000  0.369226  0.083081  0.018443  0.549500\n",
            "Age             0.036847  0.077221  0.369226  1.000000  0.308247  0.189119  0.096067\n",
            "SibSp           0.057527  0.035322  0.083081  0.308247  1.000000  0.414838  0.159651\n",
            "Parch           0.001652  0.081629  0.018443  0.189119  0.414838  1.000000  0.216225\n",
            "Fare            0.012658  0.257307  0.549500  0.096067  0.159651  0.216225  1.000000\n"
          ]
        }
      ]
    }
  ]
}