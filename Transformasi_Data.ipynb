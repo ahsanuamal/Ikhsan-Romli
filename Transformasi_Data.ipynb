{
  "nbformat": 4,
  "nbformat_minor": 0,
  "metadata": {
    "colab": {
      "name": "Transformasi_Data.ipynb",
      "provenance": [],
      "authorship_tag": "ABX9TyO9eFO2radjnkajDvp+vFoI",
      "include_colab_link": true
    },
    "kernelspec": {
      "name": "python3",
      "display_name": "Python 3"
    },
    "language_info": {
      "name": "python"
    }
  },
  "cells": [
    {
      "cell_type": "markdown",
      "metadata": {
        "id": "view-in-github",
        "colab_type": "text"
      },
      "source": [
        "<a href=\"https://colab.research.google.com/github/ahsanuamal/ahsanuamal/blob/main/Transformasi_Data.ipynb\" target=\"_parent\"><img src=\"https://colab.research.google.com/assets/colab-badge.svg\" alt=\"Open In Colab\"/></a>"
      ]
    },
    {
      "cell_type": "code",
      "metadata": {
        "id": "ijI71zPjufgT"
      },
      "source": [
        "# import numpy\n",
        "import numpy as np"
      ],
      "execution_count": 6,
      "outputs": []
    },
    {
      "cell_type": "code",
      "metadata": {
        "id": "-Wf5tUies4Sr"
      },
      "source": [
        "# mendefinisikan matriks x secara bebas, untuk contoh saja\n",
        "x = np.matrix([[-20,23,5],[4,-8,15]])"
      ],
      "execution_count": 8,
      "outputs": []
    },
    {
      "cell_type": "code",
      "metadata": {
        "colab": {
          "base_uri": "https://localhost:8080/"
        },
        "id": "tnGx52CPOW_-",
        "outputId": "783484c1-2c6b-46b5-d38e-49f4fc564cf2"
      },
      "source": [
        "# centering (data asli dikurangi nilai rata-rata)\n",
        "x_centering = x - x.mean()\n",
        "print(\"x_centering:\", x_centering, \"\\n\")"
      ],
      "execution_count": 9,
      "outputs": [
        {
          "output_type": "stream",
          "text": [
            "x_centering: [[-23.16666667  19.83333333   1.83333333]\n",
            " [  0.83333333 -11.16666667  11.83333333]] \n",
            "\n"
          ],
          "name": "stdout"
        }
      ]
    },
    {
      "cell_type": "code",
      "metadata": {
        "colab": {
          "base_uri": "https://localhost:8080/"
        },
        "id": "CeHYh-TEPVCN",
        "outputId": "c7f5f9f9-3918-42b9-8b6c-af8fd06fe7b0"
      },
      "source": [
        "# standarisasi\n",
        "x_standarisasi = (x-x.mean())/x.std()\n",
        "print(\"x_standarisasi: \", x_standarisasi)\n",
        "print(\"mean x_standarisasi: \", x_standarisasi.mean())\n",
        "print(\"varian x_standarisasi: \", x_standarisasi.var(), \"\\n\")"
      ],
      "execution_count": 11,
      "outputs": [
        {
          "output_type": "stream",
          "text": [
            "x_standarisasi:  [[-1.6389276   1.40311068  0.12969931]\n",
            " [ 0.05895423 -0.78998669  0.83715007]]\n",
            "mean x_standarisasi:  -1.850371707708594e-17\n",
            "varian x_standarisasi:  1.0000000000000002 \n",
            "\n"
          ],
          "name": "stdout"
        }
      ]
    },
    {
      "cell_type": "code",
      "metadata": {
        "colab": {
          "base_uri": "https://localhost:8080/"
        },
        "id": "lgYxJUZgRuq-",
        "outputId": "e5226747-a4e2-4929-cccd-c5571566fad8"
      },
      "source": [
        "# scaling ke range 0-1\n",
        "BA = 1; BB = 0 # BA = batas atas, BB = batas bawah\n",
        "x_scaling = (x - x.min()) / (x.max()-x.min()) * (BA-BB) + BB\n",
        "print(\"x_scaling: \", x_scaling)"
      ],
      "execution_count": 14,
      "outputs": [
        {
          "output_type": "stream",
          "text": [
            "x_scaling:  [[0.         1.         0.58139535]\n",
            " [0.55813953 0.27906977 0.81395349]]\n"
          ],
          "name": "stdout"
        }
      ]
    }
  ]
}