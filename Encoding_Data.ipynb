{
  "nbformat": 4,
  "nbformat_minor": 0,
  "metadata": {
    "colab": {
      "name": "Encoding Data.ipynb",
      "provenance": [],
      "collapsed_sections": [],
      "authorship_tag": "ABX9TyOCz4yWs1Bc2UH8Fyv2HukX",
      "include_colab_link": true
    },
    "kernelspec": {
      "name": "python3",
      "display_name": "Python 3"
    },
    "language_info": {
      "name": "python"
    }
  },
  "cells": [
    {
      "cell_type": "markdown",
      "metadata": {
        "id": "view-in-github",
        "colab_type": "text"
      },
      "source": [
        "<a href=\"https://colab.research.google.com/github/ahsanuamal/ahsanuamal/blob/main/Encoding_Data.ipynb\" target=\"_parent\"><img src=\"https://colab.research.google.com/assets/colab-badge.svg\" alt=\"Open In Colab\"/></a>"
      ]
    },
    {
      "cell_type": "code",
      "metadata": {
        "colab": {
          "base_uri": "https://localhost:8080/"
        },
        "id": "SpLi_Fmd2cae",
        "outputId": "f535ee71-0d81-40b6-a5f3-a1c7a537a4e9"
      },
      "source": [
        "import numpy as np\n",
        "import pandas as pd\n",
        "df_load = pd.read_csv('https://storage.googleapis.com/dqlab-dataset/dqlab_telco_final.csv')\n",
        "cleaned_df = df_load.drop(['customerID','UpdatedAt'], axis=1)\n",
        "\n",
        "from sklearn.preprocessing import LabelEncoder\n",
        "#Convert all the non-numeric columns to numerical data types\n",
        "for column in cleaned_df.columns:\n",
        "    if cleaned_df[column].dtype == np.number: continue\n",
        "    # Perform encoding for each non-numeric column\n",
        "    cleaned_df[column] = LabelEncoder().fit_transform(cleaned_df[column])\n",
        "print(cleaned_df.describe())"
      ],
      "execution_count": 6,
      "outputs": [
        {
          "output_type": "stream",
          "text": [
            "            gender  SeniorCitizen  ...  TotalCharges        Churn\n",
            "count  6950.000000    6950.000000  ...   6950.000000  6950.000000\n",
            "mean      0.504317       0.162302  ...   2286.058750     0.264173\n",
            "std       0.500017       0.368754  ...   2265.702553     0.440923\n",
            "min       0.000000       0.000000  ...     19.000000     0.000000\n",
            "25%       0.000000       0.000000  ...    406.975000     0.000000\n",
            "50%       1.000000       0.000000  ...   1400.850000     0.000000\n",
            "75%       1.000000       0.000000  ...   3799.837500     1.000000\n",
            "max       1.000000       1.000000  ...   8889.131250     1.000000\n",
            "\n",
            "[8 rows x 11 columns]\n"
          ],
          "name": "stdout"
        },
        {
          "output_type": "stream",
          "text": [
            "/usr/local/lib/python3.7/dist-packages/ipykernel_launcher.py:9: DeprecationWarning: Converting `np.inexact` or `np.floating` to a dtype is deprecated. The current result is `float64` which is not strictly correct.\n",
            "  if __name__ == '__main__':\n"
          ],
          "name": "stderr"
        }
      ]
    }
  ]
}