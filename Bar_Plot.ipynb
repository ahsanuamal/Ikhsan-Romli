{
  "nbformat": 4,
  "nbformat_minor": 0,
  "metadata": {
    "colab": {
      "name": "Bar Plot.ipynb",
      "provenance": [],
      "collapsed_sections": [],
      "authorship_tag": "ABX9TyNnTVwWmHaWsnfyRHPmuhjM",
      "include_colab_link": true
    },
    "kernelspec": {
      "name": "python3",
      "display_name": "Python 3"
    },
    "language_info": {
      "name": "python"
    }
  },
  "cells": [
    {
      "cell_type": "markdown",
      "metadata": {
        "id": "view-in-github",
        "colab_type": "text"
      },
      "source": [
        "<a href=\"https://colab.research.google.com/github/ahsanuamal/ahsanuamal/blob/main/Bar_Plot.ipynb\" target=\"_parent\"><img src=\"https://colab.research.google.com/assets/colab-badge.svg\" alt=\"Open In Colab\"/></a>"
      ]
    },
    {
      "cell_type": "code",
      "metadata": {
        "colab": {
          "base_uri": "https://localhost:8080/",
          "height": 694
        },
        "id": "GMvM6ef0ZOHx",
        "outputId": "e1be4dc9-95c1-4f33-cf66-e1505d895dae"
      },
      "source": [
        "import pandas as pd\n",
        "import matplotlib.pyplot as plt\n",
        "raw_data = pd.read_csv(\"https://storage.googleapis.com/dqlab-dataset/dataset_statistic.csv\", sep=';')\n",
        "plt.clf()\n",
        "\n",
        "# hitung frekuensi dari masing-masing nilai pada kolom 'Produk'\n",
        "class_freq = raw_data['Produk'].value_counts()\n",
        "\n",
        "# lihat nilai dari class_freq\n",
        "print(class_freq)\n",
        "\n",
        "plt.figure()\n",
        "# membuat bar plot dengan method `plot.bar()` dari pandas\n",
        "class_freq.plot.bar()\n",
        "plt.title('.bar dari pandas', size=14)\n",
        "plt.tight_layout()\n",
        "plt.show()\n",
        "\n",
        "plt.figure()\n",
        "# membuat bar plot dengan method `plt.bar()` dari matplotlib\n",
        "plt.bar(x=class_freq.index, height=class_freq.values)\n",
        "plt.title('plt.bar dari matplotlib.pyplot', size=14)\n",
        "plt.tight_layout()\n",
        "plt.show()"
      ],
      "execution_count": null,
      "outputs": [
        {
          "output_type": "stream",
          "text": [
            "D    5\n",
            "B    4\n",
            "A    4\n",
            "C    4\n",
            "E    3\n",
            "Name: Produk, dtype: int64\n"
          ],
          "name": "stdout"
        },
        {
          "output_type": "display_data",
          "data": {
            "text/plain": [
              "<Figure size 432x288 with 0 Axes>"
            ]
          },
          "metadata": {}
        },
        {
          "output_type": "display_data",
          "data": {
            "image/png": "[encoded data removed]",
            "text/plain": [
              "<Figure size 432x288 with 1 Axes>"
            ]
          },
          "metadata": {
            "needs_background": "light"
          }
        },
        {
          "output_type": "display_data",
          "data": {
            "image/png": "[encoded data removed]",
            "text/plain": [
              "<Figure size 432x288 with 1 Axes>"
            ]
          },
          "metadata": {
            "needs_background": "light"
          }
        }
      ]
    }
  ]
}