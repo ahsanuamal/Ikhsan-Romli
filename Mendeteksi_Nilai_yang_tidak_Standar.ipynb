{
  "nbformat": 4,
  "nbformat_minor": 0,
  "metadata": {
    "colab": {
      "name": "Mendeteksi Nilai yang tidak Standar.ipynb",
      "provenance": [],
      "collapsed_sections": [],
      "authorship_tag": "ABX9TyMbzIehlQmsfx3528KcngIC",
      "include_colab_link": true
    },
    "kernelspec": {
      "name": "python3",
      "display_name": "Python 3"
    },
    "language_info": {
      "name": "python"
    }
  },
  "cells": [
    {
      "cell_type": "markdown",
      "metadata": {
        "id": "view-in-github",
        "colab_type": "text"
      },
      "source": [
        "<a href=\"https://colab.research.google.com/github/ahsanuamal/ahsanuamal/blob/main/Mendeteksi_Nilai_yang_tidak_Standar.ipynb\" target=\"_parent\"><img src=\"https://colab.research.google.com/assets/colab-badge.svg\" alt=\"Open In Colab\"/></a>"
      ]
    },
    {
      "cell_type": "code",
      "metadata": {
        "colab": {
          "base_uri": "https://localhost:8080/"
        },
        "id": "VA8NdlXQe92P",
        "outputId": "c7870d5a-3c88-446d-9583-ee9f49249351"
      },
      "source": [
        "import pandas as pd\n",
        "df_load = pd.read_csv('https://storage.googleapis.com/dqlab-dataset/dqlab_telco.csv')\n",
        "\n",
        "# Masukkan variable\n",
        "for col_name in list(['gender','SeniorCitizen','Partner','Dependents','PhoneService','MultipleLines','InternetService','OnlineSecurity','OnlineBackup','DeviceProtection','TechSupport','StreamingTV','StreamingMovies','Contract','PaperlessBilling','PaymentMethod','Churn']):\n",
        "    print('\\nUnique Values Count \\033[1m' + 'Before Standardized \\033[0m Variable',col_name)\n",
        "    print(df_load[col_name].value_counts())"
      ],
      "execution_count": 1,
      "outputs": [
        {
          "output_type": "stream",
          "name": "stdout",
          "text": [
            "\n",
            "Unique Values Count \u001b[1mBefore Standardized \u001b[0m Variable gender\n",
            "Male         3581\n",
            "Female       3512\n",
            "Wanita         14\n",
            "Laki-Laki       6\n",
            "Name: gender, dtype: int64\n",
            "\n",
            "Unique Values Count \u001b[1mBefore Standardized \u001b[0m Variable SeniorCitizen\n",
            "0    5962\n",
            "1    1151\n",
            "Name: SeniorCitizen, dtype: int64\n",
            "\n",
            "Unique Values Count \u001b[1mBefore Standardized \u001b[0m Variable Partner\n",
            "No     3676\n",
            "Yes    3437\n",
            "Name: Partner, dtype: int64\n",
            "\n",
            "Unique Values Count \u001b[1mBefore Standardized \u001b[0m Variable Dependents\n",
            "No     4978\n",
            "Yes    2115\n",
            "Iya      20\n",
            "Name: Dependents, dtype: int64\n",
            "\n",
            "Unique Values Count \u001b[1mBefore Standardized \u001b[0m Variable PhoneService\n",
            "Yes    6423\n",
            "No      690\n",
            "Name: PhoneService, dtype: int64\n",
            "\n",
            "Unique Values Count \u001b[1mBefore Standardized \u001b[0m Variable MultipleLines\n",
            "No                  3428\n",
            "Yes                 2995\n",
            "No phone service     690\n",
            "Name: MultipleLines, dtype: int64\n",
            "\n",
            "Unique Values Count \u001b[1mBefore Standardized \u001b[0m Variable InternetService\n",
            "Fiber optic    3125\n",
            "DSL            2451\n",
            "No             1537\n",
            "Name: InternetService, dtype: int64\n",
            "\n",
            "Unique Values Count \u001b[1mBefore Standardized \u001b[0m Variable OnlineSecurity\n",
            "No                     3531\n",
            "Yes                    2045\n",
            "No internet service    1537\n",
            "Name: OnlineSecurity, dtype: int64\n",
            "\n",
            "Unique Values Count \u001b[1mBefore Standardized \u001b[0m Variable OnlineBackup\n",
            "No                     3120\n",
            "Yes                    2456\n",
            "No internet service    1537\n",
            "Name: OnlineBackup, dtype: int64\n",
            "\n",
            "Unique Values Count \u001b[1mBefore Standardized \u001b[0m Variable DeviceProtection\n",
            "No                     3120\n",
            "Yes                    2456\n",
            "No internet service    1537\n",
            "Name: DeviceProtection, dtype: int64\n",
            "\n",
            "Unique Values Count \u001b[1mBefore Standardized \u001b[0m Variable TechSupport\n",
            "No                     3502\n",
            "Yes                    2074\n",
            "No internet service    1537\n",
            "Name: TechSupport, dtype: int64\n",
            "\n",
            "Unique Values Count \u001b[1mBefore Standardized \u001b[0m Variable StreamingTV\n",
            "No                     2837\n",
            "Yes                    2739\n",
            "No internet service    1537\n",
            "Name: StreamingTV, dtype: int64\n",
            "\n",
            "Unique Values Count \u001b[1mBefore Standardized \u001b[0m Variable StreamingMovies\n",
            "No                     2809\n",
            "Yes                    2767\n",
            "No internet service    1537\n",
            "Name: StreamingMovies, dtype: int64\n",
            "\n",
            "Unique Values Count \u001b[1mBefore Standardized \u001b[0m Variable Contract\n",
            "Month-to-month    3905\n",
            "Two year          1716\n",
            "One year          1492\n",
            "Name: Contract, dtype: int64\n",
            "\n",
            "Unique Values Count \u001b[1mBefore Standardized \u001b[0m Variable PaperlessBilling\n",
            "Yes    4206\n",
            "No     2907\n",
            "Name: PaperlessBilling, dtype: int64\n",
            "\n",
            "Unique Values Count \u001b[1mBefore Standardized \u001b[0m Variable PaymentMethod\n",
            "Electronic check             2385\n",
            "Mailed check                 1630\n",
            "Bank transfer (automatic)    1556\n",
            "Credit card (automatic)      1542\n",
            "Name: PaymentMethod, dtype: int64\n",
            "\n",
            "Unique Values Count \u001b[1mBefore Standardized \u001b[0m Variable Churn\n",
            "No       5195\n",
            "Yes      1866\n",
            "Churn       9\n",
            "Name: Churn, dtype: int64\n"
          ]
        }
      ]
    }
  ]
}