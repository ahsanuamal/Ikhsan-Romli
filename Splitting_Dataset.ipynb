{
  "nbformat": 4,
  "nbformat_minor": 0,
  "metadata": {
    "colab": {
      "name": "Splitting Dataset.ipynb",
      "provenance": [],
      "collapsed_sections": [],
      "authorship_tag": "ABX9TyNfV628vO/1Dz4GhoSeGDXb",
      "include_colab_link": true
    },
    "kernelspec": {
      "name": "python3",
      "display_name": "Python 3"
    },
    "language_info": {
      "name": "python"
    }
  },
  "cells": [
    {
      "cell_type": "markdown",
      "metadata": {
        "id": "view-in-github",
        "colab_type": "text"
      },
      "source": [
        "<a href=\"https://colab.research.google.com/github/ahsanuamal/ahsanuamal/blob/main/Splitting_Dataset.ipynb\" target=\"_parent\"><img src=\"https://colab.research.google.com/assets/colab-badge.svg\" alt=\"Open In Colab\"/></a>"
      ]
    },
    {
      "cell_type": "code",
      "metadata": {
        "colab": {
          "base_uri": "https://localhost:8080/"
        },
        "id": "bz5nzEFG4Gn-",
        "outputId": "4106be6d-76d0-4b01-b301-38aabfa62b88"
      },
      "source": [
        "import numpy as np\n",
        "import pandas as pd\n",
        "from sklearn.preprocessing import LabelEncoder\n",
        "\n",
        "df_load = pd.read_csv('https://storage.googleapis.com/dqlab-dataset/dqlab_telco_final.csv')\n",
        "cleaned_df = df_load.drop(['customerID','UpdatedAt'], axis=1)\n",
        "\n",
        "for column in cleaned_df.columns:\n",
        "    if cleaned_df[column].dtype == np.number: continue\n",
        "    cleaned_df[column] = LabelEncoder().fit_transform(cleaned_df[column])\n",
        "\n",
        "from sklearn.model_selection import train_test_split\n",
        "# Predictor dan target\n",
        "X = cleaned_df.drop('Churn', axis = 1) \n",
        "y = cleaned_df['Churn']\n",
        "# Splitting train and test\n",
        "x_train, x_test, y_train, y_test = train_test_split(X, y, test_size=0.3, random_state=42)\n",
        "# Print according to the expected result\n",
        "print('Jumlah baris dan kolom dari x_train adalah:', x_train.shape,', sedangkan Jumlah baris dan kolom dari y_train adalah:', y_train.shape)\n",
        "print('Prosentase Churn di data Training adalah:')\n",
        "print(y_train.value_counts(normalize=True))\n",
        "print('Jumlah baris dan kolom dari x_test adalah:', x_test.shape,', sedangkan Jumlah baris dan kolom dari y_test adalah:', y_test.shape)\n",
        "print('Prosentase Churn di data Testing adalah:')\n",
        "print(y_test.value_counts(normalize=True))"
      ],
      "execution_count": null,
      "outputs": [
        {
          "output_type": "stream",
          "text": [
            "Jumlah baris dan kolom dari x_train adalah: (4865, 10) , sedangkan Jumlah baris dan kolom dari y_train adalah: (4865,)\n",
            "Prosentase Churn di data Training adalah:\n",
            "0    0.734841\n",
            "1    0.265159\n",
            "Name: Churn, dtype: float64\n",
            "Jumlah baris dan kolom dari x_test adalah: (2085, 10) , sedangkan Jumlah baris dan kolom dari y_test adalah: (2085,)\n",
            "Prosentase Churn di data Testing adalah:\n",
            "0    0.738129\n",
            "1    0.261871\n",
            "Name: Churn, dtype: float64\n"
          ],
          "name": "stdout"
        },
        {
          "output_type": "stream",
          "text": [
            "/usr/local/lib/python3.7/dist-packages/ipykernel_launcher.py:9: DeprecationWarning: Converting `np.inexact` or `np.floating` to a dtype is deprecated. The current result is `float64` which is not strictly correct.\n",
            "  if __name__ == '__main__':\n"
          ],
          "name": "stderr"
        }
      ]
    }
  ]
}