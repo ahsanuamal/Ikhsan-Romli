{
  "nbformat": 4,
  "nbformat_minor": 0,
  "metadata": {
    "colab": {
      "name": "K-NN.ipynb",
      "provenance": [],
      "authorship_tag": "ABX9TyNiMGvRSHj288Hl5IdHYMgF",
      "include_colab_link": true
    },
    "kernelspec": {
      "name": "python3",
      "display_name": "Python 3"
    },
    "language_info": {
      "name": "python"
    }
  },
  "cells": [
    {
      "cell_type": "markdown",
      "metadata": {
        "id": "view-in-github",
        "colab_type": "text"
      },
      "source": [
        "<a href=\"https://colab.research.google.com/github/ahsanuamal/ahsanuamal/blob/main/K_NN.ipynb\" target=\"_parent\"><img src=\"https://colab.research.google.com/assets/colab-badge.svg\" alt=\"Open In Colab\"/></a>"
      ]
    },
    {
      "cell_type": "code",
      "metadata": {
        "id": "T5msAUlrdABd"
      },
      "source": [
        "#mengimport numpy, pandas dan scipy\n",
        "import numpy as np\n",
        "import pandas as pd\n",
        "from scipy import stats"
      ],
      "execution_count": 15,
      "outputs": []
    },
    {
      "cell_type": "code",
      "metadata": {
        "id": "HddlnpfbdKyy"
      },
      "source": [
        "#membaca dataset dari file ke pandas dataFrame\n",
        "irisDataset = pd.read_csv('/tmp/klasifikasi_dataset_iris.csv',\n",
        "                          delimiter=',', header=0)"
      ],
      "execution_count": 16,
      "outputs": []
    },
    {
      "cell_type": "code",
      "metadata": {
        "id": "hkQW-_hpeFsJ"
      },
      "source": [
        "#mengubah kelas (kolom \"Species\") dari string ke unique-integer\n",
        "irisDataset[\"Species\"] = pd.factorize(irisDataset.Species)[0]\n",
        "#menghapus kolom \"Id\"\n",
        "irisDataset = irisDataset.drop(labels=\"Id\", axis=1)"
      ],
      "execution_count": 17,
      "outputs": []
    },
    {
      "cell_type": "code",
      "metadata": {
        "id": "C2oq_CFleKe7"
      },
      "source": [
        "#mengubah dataframe ke array numpy\n",
        "irisDataset = irisDataset.values"
      ],
      "execution_count": 18,
      "outputs": []
    },
    {
      "cell_type": "code",
      "metadata": {
        "id": "ObkOdxtFfreM"
      },
      "source": [
        "#membagi dataset, 40 baris data untuk training\n",
        "#dan 20 baris data untuk testing\n",
        "dataTraining = np.concatenate((irisDataset[0:40,:],\n",
        "                               irisDataset[50:90,:]), axis=0)\n",
        "dataTesting = np.concatenate((irisDataset[40:50,:],\n",
        "                              irisDataset[90:100,:]), axis=0)"
      ],
      "execution_count": 19,
      "outputs": []
    },
    {
      "cell_type": "code",
      "metadata": {
        "id": "6W9JKI0qt5lU"
      },
      "source": [
        "#memecah dataset ke input dan label\n",
        "inputTraining = dataTraining[:,0:4]\n",
        "inputTesting = dataTesting[:,0:4]\n",
        "labelTraining = dataTraining[:,4]\n",
        "labelTesting = dataTesting[:, 4]"
      ],
      "execution_count": 20,
      "outputs": []
    },
    {
      "cell_type": "code",
      "metadata": {
        "id": "4SF1A0wyt_Ue"
      },
      "source": [
        "k=3#inputnya nilai k-Nearest Neighborsnya\n",
        "#prediksi data testing menggunakan data training\n",
        "matriks_prediksi_kelas = np.ndarray(shape = (0,1))"
      ],
      "execution_count": 21,
      "outputs": []
    },
    {
      "cell_type": "code",
      "metadata": {
        "id": "IsKy9CYMuHh9"
      },
      "source": [
        "#mengkasting label ke bentuk matriks\n",
        "labelTraining=np.matrix(labelTraining).T\n",
        "for i in range(0,inputTesting.shape[0]):#loop semua data testing\n",
        "    for j in range(0, inputTraining.shape[0]): #loop semua data training\n",
        "        #hitung jarak euclidean tiap satu data testing\n",
        "        #ke semua data training\n",
        "        euclideanDistance = np.square(np.sum((np.tile(\n",
        "            inputTesting[i,:],\n",
        "            (inputTraining.shape[0],1))-inputTraining)**2,axis=1))\n",
        "        #mencasting ke variabel matriks\n",
        "        euclideanDistance=np.matrix(euclideanDistance).T\n",
        "        # menambahkan kolom label ke matriks euclidean\n",
        "        matriksEuclideanDanLabel = np.concatenate((euclideanDistance,\n",
        "                                                   labelTraining), axis=1)\n",
        "        #casting ke array dulu untuk disorting\n",
        "        matriksEuclideanDanLabel = np.asarray(matriksEuclideanDanLabel)\n",
        "        #sorting berdasarkan jarak euclidean\n",
        "        matriksEuclideanDanLabelSorted = matriksEuclideanDanLabel[\n",
        "            matriksEuclideanDanLabel[:, 0].argsort()]\n",
        "        #mengambil k-label kelas dengan jarak euclidean plg kecil\n",
        "        k_label=matriksEuclideanDanLabelSorted[0:k,1]\n",
        "        #prediksi adalah kelas dengan kemunculan terbanyak dari k-label\n",
        "        prediksi_kelas = np.matrix(stats.mode(k_label)[0])\n",
        "    #menggabungkan semua prediksi dalam matriks\n",
        "    matriks_prediksi_kelas=np.concatenate((matriks_prediksi_kelas,\n",
        "                                           prediksi_kelas), axis=0)"
      ],
      "execution_count": 22,
      "outputs": []
    },
    {
      "cell_type": "code",
      "metadata": {
        "colab": {
          "base_uri": "https://localhost:8080/"
        },
        "id": "prxGX0iRuNen",
        "outputId": "437ac765-fa78-41e8-933f-f51e4b4f2a11"
      },
      "source": [
        "#menghitung akurasi\n",
        "matriks_prediksi_kelas=matriks_prediksi_kelas.ravel()#flatten ke 1D array\n",
        "prediksiBenar = (matriks_prediksi_kelas == labelTesting).sum()\n",
        "prediksiSalah = (matriks_prediksi_kelas != labelTesting).sum()\n",
        "print(\"prediksi benar: \", prediksiBenar, \" data\")\n",
        "print(\"prediksi salah: \", prediksiSalah, \" data\")\n",
        "print(\"akurasi: \", prediksiBenar/(prediksiBenar+prediksiSalah) * 100, \"%\")"
      ],
      "execution_count": 23,
      "outputs": [
        {
          "output_type": "stream",
          "text": [
            "prediksi benar:  20  data\n",
            "prediksi salah:  0  data\n",
            "akurasi:  100.0 %\n"
          ],
          "name": "stdout"
        }
      ]
    }
  ]
}